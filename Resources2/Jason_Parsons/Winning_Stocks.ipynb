{
 "cells": [
  {
   "cell_type": "code",
   "execution_count": 135,
   "metadata": {},
   "outputs": [],
   "source": [
    "# imports\n",
    "import panel as pn\n",
    "pn.extension('plotly')\n",
    "import plotly.express as px\n",
    "import pandas as pd\n",
    "import hvplot.pandas\n",
    "import numpy as np\n",
    "import os\n",
    "from pathlib import Path\n",
    "import alpaca_trade_api as tradeapi\n",
    "import matplotlib.pyplot as plt\n",
    "import warnings\n",
    "warnings.filterwarnings('ignore')\n"
   ]
  },
  {
   "cell_type": "code",
   "execution_count": 136,
   "metadata": {},
   "outputs": [],
   "source": [
    "import numpy as np\n",
    "import pandas as pd\n",
    "import os\n",
    "import alpaca_trade_api as tradeapi\n",
    "import datetime as dt\n",
    "import pytz\n",
    "\n",
    "class MCSimulation:\n",
    "    \"\"\"\n",
    "    A Python class for runnning Monte Carlo simulation on portfolio price data. \n",
    "    \n",
    "    ...\n",
    "    \n",
    "    Attributes\n",
    "    ----------\n",
    "    portfolio_data : pandas.DataFrame\n",
    "        portfolio dataframe\n",
    "    weights: list(float)\n",
    "        portfolio investment breakdown\n",
    "    nSim: int\n",
    "        number of samples in simulation\n",
    "    nTrading: int\n",
    "        number of trading days to simulate\n",
    "    simulated_return : pandas.DataFrame\n",
    "        Simulated data from Monte Carlo\n",
    "    confidence_interval : pandas.Series\n",
    "        the 95% confidence intervals for simulated final cumulative returns\n",
    "        \n",
    "    \"\"\"\n",
    "    \n",
    "    def __init__(self, portfolio_data, weights=\"\", num_simulation=1000, num_trading_days=252):\n",
    "        \"\"\"\n",
    "        Constructs all the necessary attributes for the MCSimulation object.\n",
    "        Parameters\n",
    "        ----------\n",
    "        portfolio_data: pandas.DataFrame\n",
    "            DataFrame containing stock price information from Alpaca API\n",
    "        weights: list(float)\n",
    "            A list fractions representing percentage of total investment per stock. DEFAULT: Equal distribution\n",
    "        num_simulation: int\n",
    "            Number of simulation samples. DEFAULT: 1000 simulation samples\n",
    "        num_trading_days: int\n",
    "            Number of trading days to simulate. DEFAULT: 252 days (1 year of business days)\n",
    "        \"\"\"\n",
    "        \n",
    "        # Check to make sure that all attributes are set\n",
    "        if not isinstance(portfolio_data, pd.DataFrame):\n",
    "            raise TypeError(\"portfolio_data must be a Pandas DataFrame\")\n",
    "            \n",
    "        # Set weights if empty, otherwise make sure sum of weights equals one.\n",
    "        if weights == \"\":\n",
    "            num_stocks = len(portfolio_data.columns.get_level_values(0).unique())\n",
    "            weights = [1.0/num_stocks for s in range(0,num_stocks)]\n",
    "        else:\n",
    "            if round(sum(weights),2) < .99:\n",
    "                raise AttributeError(\"Sum of portfolio weights must equal one.\")\n",
    "        \n",
    "        # Calculate daily return if not within dataframe\n",
    "        if not \"daily_return\" in portfolio_data.columns.get_level_values(1).unique():\n",
    "            close_df = portfolio_data.xs('close',level=1,axis=1).pct_change()\n",
    "            tickers = portfolio_data.columns.get_level_values(0).unique()\n",
    "            column_names = [(x,\"daily_return\") for x in tickers]\n",
    "            close_df.columns = pd.MultiIndex.from_tuples(column_names)\n",
    "            portfolio_data = portfolio_data.merge(close_df,left_index=True,right_index=True).reindex(columns=tickers,level=0)    \n",
    "        \n",
    "        # Set class attributes\n",
    "        self.portfolio_data = portfolio_data\n",
    "        self.weights = weights\n",
    "        self.nSim = num_simulation\n",
    "        self.nTrading = num_trading_days\n",
    "        self.simulated_return = \"\"\n",
    "        \n",
    "    def calc_cumulative_return(self):\n",
    "        \"\"\"\n",
    "        Calculates the cumulative return of a stock over time using a Monte Carlo simulation (Brownian motion with drift).\n",
    "        \"\"\"\n",
    "        \n",
    "        # Get closing prices of each stock\n",
    "        last_prices = self.portfolio_data.xs('close',level=1,axis=1)[-1:].values.tolist()[0]\n",
    "        \n",
    "        # Calculate the mean and standard deviation of daily returns for each stock\n",
    "        daily_returns = self.portfolio_data.xs('daily_return',level=1,axis=1)\n",
    "        mean_returns = daily_returns.mean().tolist()\n",
    "        std_returns = daily_returns.std().tolist()\n",
    "        \n",
    "        # Initialize empty Dataframe to hold simulated prices\n",
    "        portfolio_cumulative_returns = pd.DataFrame()\n",
    "        \n",
    "        # Run the simulation of projecting stock prices 'nSim' number of times\n",
    "        for n in range(self.nSim):\n",
    "        \n",
    "            if n % 10 == 0:\n",
    "                print(f\"Running Monte Carlo simulation number {n}.\")\n",
    "        \n",
    "            # Create a list of lists to contain the simulated values for each stock\n",
    "            simvals = [[p] for p in last_prices]\n",
    "    \n",
    "            # For each stock in our data:\n",
    "            for s in range(len(last_prices)):\n",
    "\n",
    "                # Simulate the returns for each trading day\n",
    "                for i in range(self.nTrading):\n",
    "        \n",
    "                    # Calculate the simulated price using the last price within the list\n",
    "                    simvals[s].append(simvals[s][-1] * (1 + np.random.normal(mean_returns[s], std_returns[s])))\n",
    "    \n",
    "            # Calculate the daily returns of simulated prices\n",
    "            sim_df = pd.DataFrame(simvals).T.pct_change()\n",
    "    \n",
    "            # Use the `dot` function with the weights to multiply weights with each column's simulated daily returns\n",
    "            sim_df = sim_df.dot(self.weights)\n",
    "    \n",
    "            # Calculate the normalized, cumulative return series\n",
    "            portfolio_cumulative_returns[n] = (1 + sim_df.fillna(0)).cumprod()\n",
    "        \n",
    "        # Set attribute to use in plotting\n",
    "        self.simulated_return = portfolio_cumulative_returns\n",
    "        \n",
    "        # Calculate 95% confidence intervals for final cumulative returns\n",
    "        self.confidence_interval = portfolio_cumulative_returns.iloc[-1, :].quantile(q=[0.025, 0.975])\n",
    "        \n",
    "        return portfolio_cumulative_returns\n",
    "    \n",
    "    def plot_simulation(self):\n",
    "        \"\"\"\n",
    "        Visualizes the simulated stock trajectories using calc_cumulative_return method.\n",
    "        \"\"\" \n",
    "        \n",
    "        # Check to make sure that simulation has run previously. \n",
    "        if not isinstance(self.simulated_return,pd.DataFrame):\n",
    "            self.calc_cumulative_return()\n",
    "            \n",
    "        # Use Pandas plot function to plot the return data\n",
    "        plot_title = f\"{self.nSim} Simulations of Cumulative Portfolio Return Trajectories Over the Next {self.nTrading} Trading Days.\"\n",
    "        return self.simulated_return.plot(legend=None,title=plot_title)\n",
    "    \n",
    "    def plot_distribution(self):\n",
    "        \"\"\"\n",
    "        Visualizes the distribution of cumulative returns simulated using calc_cumulative_return method.\n",
    "        \"\"\"\n",
    "        \n",
    "        # Check to make sure that simulation has run previously. \n",
    "        if not isinstance(self.simulated_return,pd.DataFrame):\n",
    "            self.calc_cumulative_return()\n",
    "        \n",
    "        # Use the `plot` function to create a probability distribution histogram of simulated ending prices\n",
    "        # with markings for a 95% confidence interval\n",
    "        plot_title = f\"Distribution of Final Cumuluative Returns Across All {self.nSim} Simulations\"\n",
    "        plt = self.simulated_return.iloc[-1, :].plot(kind='hist', bins=10,density=True,title=plot_title)\n",
    "        plt.axvline(self.confidence_interval.iloc[0], color='r')\n",
    "        plt.axvline(self.confidence_interval.iloc[1], color='r')\n",
    "        return plt\n",
    "    \n",
    "    def summarize_cumulative_return(self):\n",
    "        \"\"\"\n",
    "        Calculate final summary statistics for Monte Carlo simulated stock data.\n",
    "        \n",
    "        \"\"\"\n",
    "        \n",
    "        # Check to make sure that simulation has run previously. \n",
    "        if not isinstance(self.simulated_return,pd.DataFrame):\n",
    "            self.calc_cumulative_return()\n",
    "            \n",
    "        metrics = self.simulated_return.iloc[-1].describe()\n",
    "        ci_series = self.confidence_interval\n",
    "        ci_series.index = [\"95% CI Lower\",\"95% CI Upper\"]\n",
    "        return metrics.append(ci_series)\n"
   ]
  },
  {
   "cell_type": "code",
   "execution_count": 137,
   "metadata": {},
   "outputs": [
    {
     "data": {
      "text/plain": [
       "True"
      ]
     },
     "execution_count": 137,
     "metadata": {},
     "output_type": "execute_result"
    }
   ],
   "source": [
    "from dotenv import load_dotenv\n",
    "load_dotenv()"
   ]
  },
  {
   "cell_type": "markdown",
   "metadata": {},
   "source": [
    "###### from dotenv import load_dotenv\n",
    "load_dotenv()"
   ]
  },
  {
   "cell_type": "code",
   "execution_count": 138,
   "metadata": {},
   "outputs": [],
   "source": [
    "# Set Alpaca API key and secret\n",
    "# Set Alpaca API key and secret\n",
    "alpaca_api_key = os.getenv(\"ALPACA_KEY\")\n",
    "alpaca_secret_key = os.getenv(\"ALPACA_SECRET\")\n",
    "\n",
    "api = tradeapi.REST(\n",
    "   alpaca_api_key,\n",
    "   alpaca_secret_key,\n",
    "    api_version = \"v2\"\n",
    ")\n"
   ]
  },
  {
   "cell_type": "code",
   "execution_count": 139,
   "metadata": {},
   "outputs": [],
   "source": [
    "#Top Stocks for each sector "
   ]
  },
  {
   "cell_type": "code",
   "execution_count": 140,
   "metadata": {},
   "outputs": [
    {
     "data": {
      "text/html": [
       "<div>\n",
       "<style scoped>\n",
       "    .dataframe tbody tr th:only-of-type {\n",
       "        vertical-align: middle;\n",
       "    }\n",
       "\n",
       "    .dataframe tbody tr th {\n",
       "        vertical-align: top;\n",
       "    }\n",
       "\n",
       "    .dataframe thead tr th {\n",
       "        text-align: left;\n",
       "    }\n",
       "\n",
       "    .dataframe thead tr:last-of-type th {\n",
       "        text-align: right;\n",
       "    }\n",
       "</style>\n",
       "<table border=\"1\" class=\"dataframe\">\n",
       "  <thead>\n",
       "    <tr>\n",
       "      <th></th>\n",
       "      <th colspan=\"5\" halign=\"left\">BAC</th>\n",
       "      <th colspan=\"5\" halign=\"left\">BRK.B</th>\n",
       "      <th>...</th>\n",
       "      <th colspan=\"5\" halign=\"left\">SPY</th>\n",
       "      <th colspan=\"5\" halign=\"left\">WMT</th>\n",
       "    </tr>\n",
       "    <tr>\n",
       "      <th></th>\n",
       "      <th>open</th>\n",
       "      <th>high</th>\n",
       "      <th>low</th>\n",
       "      <th>close</th>\n",
       "      <th>volume</th>\n",
       "      <th>open</th>\n",
       "      <th>high</th>\n",
       "      <th>low</th>\n",
       "      <th>close</th>\n",
       "      <th>volume</th>\n",
       "      <th>...</th>\n",
       "      <th>open</th>\n",
       "      <th>high</th>\n",
       "      <th>low</th>\n",
       "      <th>close</th>\n",
       "      <th>volume</th>\n",
       "      <th>open</th>\n",
       "      <th>high</th>\n",
       "      <th>low</th>\n",
       "      <th>close</th>\n",
       "      <th>volume</th>\n",
       "    </tr>\n",
       "    <tr>\n",
       "      <th>time</th>\n",
       "      <th></th>\n",
       "      <th></th>\n",
       "      <th></th>\n",
       "      <th></th>\n",
       "      <th></th>\n",
       "      <th></th>\n",
       "      <th></th>\n",
       "      <th></th>\n",
       "      <th></th>\n",
       "      <th></th>\n",
       "      <th></th>\n",
       "      <th></th>\n",
       "      <th></th>\n",
       "      <th></th>\n",
       "      <th></th>\n",
       "      <th></th>\n",
       "      <th></th>\n",
       "      <th></th>\n",
       "      <th></th>\n",
       "      <th></th>\n",
       "      <th></th>\n",
       "    </tr>\n",
       "  </thead>\n",
       "  <tbody>\n",
       "    <tr>\n",
       "      <th>2021-03-10 00:00:00-05:00</th>\n",
       "      <td>36.54</td>\n",
       "      <td>37.5300</td>\n",
       "      <td>36.37</td>\n",
       "      <td>37.36</td>\n",
       "      <td>48273465</td>\n",
       "      <td>260.30</td>\n",
       "      <td>267.50</td>\n",
       "      <td>259.6400</td>\n",
       "      <td>263.87</td>\n",
       "      <td>8005789</td>\n",
       "      <td>...</td>\n",
       "      <td>389.69</td>\n",
       "      <td>391.400</td>\n",
       "      <td>388.1702</td>\n",
       "      <td>389.5199</td>\n",
       "      <td>101349197</td>\n",
       "      <td>128.86</td>\n",
       "      <td>133.05</td>\n",
       "      <td>128.4700</td>\n",
       "      <td>132.18</td>\n",
       "      <td>14000990</td>\n",
       "    </tr>\n",
       "    <tr>\n",
       "      <th>2021-03-11 00:00:00-05:00</th>\n",
       "      <td>37.27</td>\n",
       "      <td>37.7900</td>\n",
       "      <td>36.85</td>\n",
       "      <td>37.24</td>\n",
       "      <td>41694794</td>\n",
       "      <td>264.22</td>\n",
       "      <td>264.80</td>\n",
       "      <td>260.4199</td>\n",
       "      <td>260.99</td>\n",
       "      <td>5310819</td>\n",
       "      <td>...</td>\n",
       "      <td>392.23</td>\n",
       "      <td>395.650</td>\n",
       "      <td>391.7400</td>\n",
       "      <td>393.5000</td>\n",
       "      <td>77022138</td>\n",
       "      <td>133.36</td>\n",
       "      <td>133.49</td>\n",
       "      <td>131.5300</td>\n",
       "      <td>132.13</td>\n",
       "      <td>11004708</td>\n",
       "    </tr>\n",
       "    <tr>\n",
       "      <th>2021-03-12 00:00:00-05:00</th>\n",
       "      <td>37.92</td>\n",
       "      <td>38.1766</td>\n",
       "      <td>37.58</td>\n",
       "      <td>37.94</td>\n",
       "      <td>43214615</td>\n",
       "      <td>262.40</td>\n",
       "      <td>264.65</td>\n",
       "      <td>259.6700</td>\n",
       "      <td>260.02</td>\n",
       "      <td>3933652</td>\n",
       "      <td>...</td>\n",
       "      <td>392.07</td>\n",
       "      <td>394.210</td>\n",
       "      <td>391.2000</td>\n",
       "      <td>394.0900</td>\n",
       "      <td>56997361</td>\n",
       "      <td>132.52</td>\n",
       "      <td>134.52</td>\n",
       "      <td>132.0801</td>\n",
       "      <td>134.10</td>\n",
       "      <td>8639807</td>\n",
       "    </tr>\n",
       "    <tr>\n",
       "      <th>2021-03-15 00:00:00-04:00</th>\n",
       "      <td>38.03</td>\n",
       "      <td>38.0700</td>\n",
       "      <td>37.22</td>\n",
       "      <td>37.74</td>\n",
       "      <td>44223838</td>\n",
       "      <td>260.31</td>\n",
       "      <td>260.44</td>\n",
       "      <td>253.5200</td>\n",
       "      <td>254.49</td>\n",
       "      <td>5730004</td>\n",
       "      <td>...</td>\n",
       "      <td>394.33</td>\n",
       "      <td>396.685</td>\n",
       "      <td>392.0300</td>\n",
       "      <td>396.4700</td>\n",
       "      <td>64471980</td>\n",
       "      <td>134.74</td>\n",
       "      <td>134.75</td>\n",
       "      <td>132.8250</td>\n",
       "      <td>133.43</td>\n",
       "      <td>6548235</td>\n",
       "    </tr>\n",
       "    <tr>\n",
       "      <th>2021-03-16 00:00:00-04:00</th>\n",
       "      <td>37.42</td>\n",
       "      <td>37.7200</td>\n",
       "      <td>36.97</td>\n",
       "      <td>37.64</td>\n",
       "      <td>44599006</td>\n",
       "      <td>254.53</td>\n",
       "      <td>254.53</td>\n",
       "      <td>249.8200</td>\n",
       "      <td>251.50</td>\n",
       "      <td>5619337</td>\n",
       "      <td>...</td>\n",
       "      <td>397.07</td>\n",
       "      <td>397.830</td>\n",
       "      <td>395.0800</td>\n",
       "      <td>395.9400</td>\n",
       "      <td>65719794</td>\n",
       "      <td>132.82</td>\n",
       "      <td>134.28</td>\n",
       "      <td>132.8200</td>\n",
       "      <td>133.39</td>\n",
       "      <td>5620005</td>\n",
       "    </tr>\n",
       "  </tbody>\n",
       "</table>\n",
       "<p>5 rows × 60 columns</p>\n",
       "</div>"
      ],
      "text/plain": [
       "                             BAC                                    BRK.B  \\\n",
       "                            open     high    low  close    volume    open   \n",
       "time                                                                        \n",
       "2021-03-10 00:00:00-05:00  36.54  37.5300  36.37  37.36  48273465  260.30   \n",
       "2021-03-11 00:00:00-05:00  37.27  37.7900  36.85  37.24  41694794  264.22   \n",
       "2021-03-12 00:00:00-05:00  37.92  38.1766  37.58  37.94  43214615  262.40   \n",
       "2021-03-15 00:00:00-04:00  38.03  38.0700  37.22  37.74  44223838  260.31   \n",
       "2021-03-16 00:00:00-04:00  37.42  37.7200  36.97  37.64  44599006  254.53   \n",
       "\n",
       "                                                              ...     SPY  \\\n",
       "                             high       low   close   volume  ...    open   \n",
       "time                                                          ...           \n",
       "2021-03-10 00:00:00-05:00  267.50  259.6400  263.87  8005789  ...  389.69   \n",
       "2021-03-11 00:00:00-05:00  264.80  260.4199  260.99  5310819  ...  392.23   \n",
       "2021-03-12 00:00:00-05:00  264.65  259.6700  260.02  3933652  ...  392.07   \n",
       "2021-03-15 00:00:00-04:00  260.44  253.5200  254.49  5730004  ...  394.33   \n",
       "2021-03-16 00:00:00-04:00  254.53  249.8200  251.50  5619337  ...  397.07   \n",
       "\n",
       "                                                                      WMT  \\\n",
       "                              high       low     close     volume    open   \n",
       "time                                                                        \n",
       "2021-03-10 00:00:00-05:00  391.400  388.1702  389.5199  101349197  128.86   \n",
       "2021-03-11 00:00:00-05:00  395.650  391.7400  393.5000   77022138  133.36   \n",
       "2021-03-12 00:00:00-05:00  394.210  391.2000  394.0900   56997361  132.52   \n",
       "2021-03-15 00:00:00-04:00  396.685  392.0300  396.4700   64471980  134.74   \n",
       "2021-03-16 00:00:00-04:00  397.830  395.0800  395.9400   65719794  132.82   \n",
       "\n",
       "                                                               \n",
       "                             high       low   close    volume  \n",
       "time                                                           \n",
       "2021-03-10 00:00:00-05:00  133.05  128.4700  132.18  14000990  \n",
       "2021-03-11 00:00:00-05:00  133.49  131.5300  132.13  11004708  \n",
       "2021-03-12 00:00:00-05:00  134.52  132.0801  134.10   8639807  \n",
       "2021-03-15 00:00:00-04:00  134.75  132.8250  133.43   6548235  \n",
       "2021-03-16 00:00:00-04:00  134.28  132.8200  133.39   5620005  \n",
       "\n",
       "[5 rows x 60 columns]"
      ]
     },
     "execution_count": 140,
     "metadata": {},
     "output_type": "execute_result"
    }
   ],
   "source": [
    "\n",
    "# Set the tickers\n",
    "tickers =  [\"SPY\", \"BRK.B\", \"PRU\", \"JNJ\", \"BAC\", \"RTX\", \"DIS\", \"RIO\",\"WMT\",\"NEE\",\"ORCL\",\"PG\" ]\n",
    "timeframe = \"1D\"\n",
    "\n",
    "# Set start and end datetimes \n",
    "start_date = pd.Timestamp(\"2020-07-30\", tz=\"America/New_York\").isoformat()\n",
    "end_date = pd.Timestamp(\"2021-07-30\", tz=\"America/New_York\").isoformat()\n",
    "\n",
    "\n",
    "# Get historical data for all stocks\n",
    "df_ticker = api.get_barset(\n",
    "    tickers,\n",
    "    timeframe,\n",
    "    start=start_date,\n",
    "    end=end_date,\n",
    " \n",
    ").df\n",
    "\n",
    "# Display sample data\n",
    "df_ticker.head()"
   ]
  },
  {
   "cell_type": "code",
   "execution_count": 141,
   "metadata": {},
   "outputs": [
    {
     "data": {
      "text/html": [
       "<div>\n",
       "<style scoped>\n",
       "    .dataframe tbody tr th:only-of-type {\n",
       "        vertical-align: middle;\n",
       "    }\n",
       "\n",
       "    .dataframe tbody tr th {\n",
       "        vertical-align: top;\n",
       "    }\n",
       "\n",
       "    .dataframe thead th {\n",
       "        text-align: right;\n",
       "    }\n",
       "</style>\n",
       "<table border=\"1\" class=\"dataframe\">\n",
       "  <thead>\n",
       "    <tr style=\"text-align: right;\">\n",
       "      <th></th>\n",
       "      <th>SPY</th>\n",
       "      <th>BRK.B</th>\n",
       "      <th>PRU</th>\n",
       "      <th>JNJ</th>\n",
       "      <th>BAC</th>\n",
       "      <th>RTX</th>\n",
       "      <th>DIS</th>\n",
       "      <th>RIO</th>\n",
       "      <th>WMT</th>\n",
       "      <th>NEE</th>\n",
       "      <th>ORCL</th>\n",
       "      <th>PG</th>\n",
       "    </tr>\n",
       "  </thead>\n",
       "  <tbody>\n",
       "    <tr>\n",
       "      <th>2021-03-10</th>\n",
       "      <td>389.5199</td>\n",
       "      <td>263.87</td>\n",
       "      <td>92.80</td>\n",
       "      <td>159.09</td>\n",
       "      <td>37.36</td>\n",
       "      <td>76.55</td>\n",
       "      <td>195.05</td>\n",
       "      <td>80.20</td>\n",
       "      <td>132.18</td>\n",
       "      <td>74.46</td>\n",
       "      <td>72.11</td>\n",
       "      <td>127.35</td>\n",
       "    </tr>\n",
       "    <tr>\n",
       "      <th>2021-03-11</th>\n",
       "      <td>393.5000</td>\n",
       "      <td>260.99</td>\n",
       "      <td>92.39</td>\n",
       "      <td>159.15</td>\n",
       "      <td>37.24</td>\n",
       "      <td>77.03</td>\n",
       "      <td>196.75</td>\n",
       "      <td>82.50</td>\n",
       "      <td>132.13</td>\n",
       "      <td>74.85</td>\n",
       "      <td>67.42</td>\n",
       "      <td>126.89</td>\n",
       "    </tr>\n",
       "    <tr>\n",
       "      <th>2021-03-12</th>\n",
       "      <td>394.0900</td>\n",
       "      <td>260.02</td>\n",
       "      <td>93.88</td>\n",
       "      <td>159.63</td>\n",
       "      <td>37.94</td>\n",
       "      <td>78.52</td>\n",
       "      <td>197.06</td>\n",
       "      <td>81.26</td>\n",
       "      <td>134.10</td>\n",
       "      <td>75.67</td>\n",
       "      <td>67.18</td>\n",
       "      <td>128.15</td>\n",
       "    </tr>\n",
       "    <tr>\n",
       "      <th>2021-03-15</th>\n",
       "      <td>396.4700</td>\n",
       "      <td>254.49</td>\n",
       "      <td>93.80</td>\n",
       "      <td>160.38</td>\n",
       "      <td>37.74</td>\n",
       "      <td>79.57</td>\n",
       "      <td>196.73</td>\n",
       "      <td>79.58</td>\n",
       "      <td>133.43</td>\n",
       "      <td>75.48</td>\n",
       "      <td>67.72</td>\n",
       "      <td>128.55</td>\n",
       "    </tr>\n",
       "    <tr>\n",
       "      <th>2021-03-16</th>\n",
       "      <td>395.9400</td>\n",
       "      <td>251.50</td>\n",
       "      <td>91.39</td>\n",
       "      <td>161.31</td>\n",
       "      <td>37.64</td>\n",
       "      <td>78.23</td>\n",
       "      <td>194.22</td>\n",
       "      <td>78.79</td>\n",
       "      <td>133.39</td>\n",
       "      <td>75.38</td>\n",
       "      <td>66.84</td>\n",
       "      <td>128.91</td>\n",
       "    </tr>\n",
       "  </tbody>\n",
       "</table>\n",
       "</div>"
      ],
      "text/plain": [
       "                 SPY   BRK.B    PRU     JNJ    BAC    RTX     DIS    RIO  \\\n",
       "2021-03-10  389.5199  263.87  92.80  159.09  37.36  76.55  195.05  80.20   \n",
       "2021-03-11  393.5000  260.99  92.39  159.15  37.24  77.03  196.75  82.50   \n",
       "2021-03-12  394.0900  260.02  93.88  159.63  37.94  78.52  197.06  81.26   \n",
       "2021-03-15  396.4700  254.49  93.80  160.38  37.74  79.57  196.73  79.58   \n",
       "2021-03-16  395.9400  251.50  91.39  161.31  37.64  78.23  194.22  78.79   \n",
       "\n",
       "               WMT    NEE   ORCL      PG  \n",
       "2021-03-10  132.18  74.46  72.11  127.35  \n",
       "2021-03-11  132.13  74.85  67.42  126.89  \n",
       "2021-03-12  134.10  75.67  67.18  128.15  \n",
       "2021-03-15  133.43  75.48  67.72  128.55  \n",
       "2021-03-16  133.39  75.38  66.84  128.91  "
      ]
     },
     "execution_count": 141,
     "metadata": {},
     "output_type": "execute_result"
    }
   ],
   "source": [
    "df_closing_prices = pd.DataFrame()\n",
    "\n",
    "# Fetch the closing prices for all the tickers\n",
    "for ticker in tickers:\n",
    "    df_closing_prices[ticker] = df_ticker[ticker][\"close\"]\n",
    "\n",
    "# Drop the time component of the date\n",
    "df_closing_prices.index = df_closing_prices.index.date\n",
    "\n",
    "# Display sample data\n",
    "df_closing_prices.head()"
   ]
  },
  {
   "cell_type": "code",
   "execution_count": 142,
   "metadata": {},
   "outputs": [
    {
     "data": {
      "text/html": [
       "<div>\n",
       "<style scoped>\n",
       "    .dataframe tbody tr th:only-of-type {\n",
       "        vertical-align: middle;\n",
       "    }\n",
       "\n",
       "    .dataframe tbody tr th {\n",
       "        vertical-align: top;\n",
       "    }\n",
       "\n",
       "    .dataframe thead th {\n",
       "        text-align: right;\n",
       "    }\n",
       "</style>\n",
       "<table border=\"1\" class=\"dataframe\">\n",
       "  <thead>\n",
       "    <tr style=\"text-align: right;\">\n",
       "      <th></th>\n",
       "      <th>SPY</th>\n",
       "      <th>BRK.B</th>\n",
       "      <th>PRU</th>\n",
       "      <th>JNJ</th>\n",
       "      <th>BAC</th>\n",
       "      <th>RTX</th>\n",
       "      <th>DIS</th>\n",
       "      <th>RIO</th>\n",
       "      <th>WMT</th>\n",
       "      <th>NEE</th>\n",
       "      <th>ORCL</th>\n",
       "      <th>PG</th>\n",
       "    </tr>\n",
       "  </thead>\n",
       "  <tbody>\n",
       "    <tr>\n",
       "      <th>2021-03-11</th>\n",
       "      <td>0.010218</td>\n",
       "      <td>-0.010914</td>\n",
       "      <td>-0.004418</td>\n",
       "      <td>0.000377</td>\n",
       "      <td>-0.003212</td>\n",
       "      <td>0.006270</td>\n",
       "      <td>0.008716</td>\n",
       "      <td>0.028678</td>\n",
       "      <td>-0.000378</td>\n",
       "      <td>0.005238</td>\n",
       "      <td>-0.065040</td>\n",
       "      <td>-0.003612</td>\n",
       "    </tr>\n",
       "    <tr>\n",
       "      <th>2021-03-12</th>\n",
       "      <td>0.001499</td>\n",
       "      <td>-0.003717</td>\n",
       "      <td>0.016127</td>\n",
       "      <td>0.003016</td>\n",
       "      <td>0.018797</td>\n",
       "      <td>0.019343</td>\n",
       "      <td>0.001576</td>\n",
       "      <td>-0.015030</td>\n",
       "      <td>0.014910</td>\n",
       "      <td>0.010955</td>\n",
       "      <td>-0.003560</td>\n",
       "      <td>0.009930</td>\n",
       "    </tr>\n",
       "    <tr>\n",
       "      <th>2021-03-15</th>\n",
       "      <td>0.006039</td>\n",
       "      <td>-0.021268</td>\n",
       "      <td>-0.000852</td>\n",
       "      <td>0.004698</td>\n",
       "      <td>-0.005271</td>\n",
       "      <td>0.013372</td>\n",
       "      <td>-0.001675</td>\n",
       "      <td>-0.020674</td>\n",
       "      <td>-0.004996</td>\n",
       "      <td>-0.002511</td>\n",
       "      <td>0.008038</td>\n",
       "      <td>0.003121</td>\n",
       "    </tr>\n",
       "    <tr>\n",
       "      <th>2021-03-16</th>\n",
       "      <td>-0.001337</td>\n",
       "      <td>-0.011749</td>\n",
       "      <td>-0.025693</td>\n",
       "      <td>0.005799</td>\n",
       "      <td>-0.002650</td>\n",
       "      <td>-0.016841</td>\n",
       "      <td>-0.012759</td>\n",
       "      <td>-0.009927</td>\n",
       "      <td>-0.000300</td>\n",
       "      <td>-0.001325</td>\n",
       "      <td>-0.012995</td>\n",
       "      <td>0.002800</td>\n",
       "    </tr>\n",
       "    <tr>\n",
       "      <th>2021-03-17</th>\n",
       "      <td>0.003233</td>\n",
       "      <td>0.002147</td>\n",
       "      <td>0.019586</td>\n",
       "      <td>-0.002542</td>\n",
       "      <td>0.008236</td>\n",
       "      <td>0.017257</td>\n",
       "      <td>0.005252</td>\n",
       "      <td>-0.001015</td>\n",
       "      <td>-0.008172</td>\n",
       "      <td>-0.031706</td>\n",
       "      <td>-0.009425</td>\n",
       "      <td>-0.003879</td>\n",
       "    </tr>\n",
       "  </tbody>\n",
       "</table>\n",
       "</div>"
      ],
      "text/plain": [
       "                 SPY     BRK.B       PRU       JNJ       BAC       RTX  \\\n",
       "2021-03-11  0.010218 -0.010914 -0.004418  0.000377 -0.003212  0.006270   \n",
       "2021-03-12  0.001499 -0.003717  0.016127  0.003016  0.018797  0.019343   \n",
       "2021-03-15  0.006039 -0.021268 -0.000852  0.004698 -0.005271  0.013372   \n",
       "2021-03-16 -0.001337 -0.011749 -0.025693  0.005799 -0.002650 -0.016841   \n",
       "2021-03-17  0.003233  0.002147  0.019586 -0.002542  0.008236  0.017257   \n",
       "\n",
       "                 DIS       RIO       WMT       NEE      ORCL        PG  \n",
       "2021-03-11  0.008716  0.028678 -0.000378  0.005238 -0.065040 -0.003612  \n",
       "2021-03-12  0.001576 -0.015030  0.014910  0.010955 -0.003560  0.009930  \n",
       "2021-03-15 -0.001675 -0.020674 -0.004996 -0.002511  0.008038  0.003121  \n",
       "2021-03-16 -0.012759 -0.009927 -0.000300 -0.001325 -0.012995  0.002800  \n",
       "2021-03-17  0.005252 -0.001015 -0.008172 -0.031706 -0.009425 -0.003879  "
      ]
     },
     "execution_count": 142,
     "metadata": {},
     "output_type": "execute_result"
    }
   ],
   "source": [
    "df_daily_returns  = df_closing_prices.pct_change().dropna()\n",
    "df_daily_returns.head()"
   ]
  },
  {
   "cell_type": "code",
   "execution_count": 143,
   "metadata": {},
   "outputs": [
    {
     "data": {
      "text/plain": [
       "<AxesSubplot:ylabel='Frequency'>"
      ]
     },
     "execution_count": 143,
     "metadata": {},
     "output_type": "execute_result"
    },
    {
     "data": {
      "image/png": "[encoded data removed]",
      "text/plain": [
       "<Figure size 432x288 with 1 Axes>"
      ]
     },
     "metadata": {
      "needs_background": "light"
     },
     "output_type": "display_data"
    }
   ],
   "source": [
    "df_daily_returns.plot.hist(alpha=0.5)"
   ]
  },
  {
   "cell_type": "code",
   "execution_count": 144,
   "metadata": {},
   "outputs": [
    {
     "data": {
      "text/plain": [
       "<AxesSubplot:ylabel='Density'>"
      ]
     },
     "execution_count": 144,
     "metadata": {},
     "output_type": "execute_result"
    },
    {
     "data": {
      "image/png": "[encoded data removed]",
      "text/plain": [
       "<Figure size 432x288 with 1 Axes>"
      ]
     },
     "metadata": {
      "needs_background": "light"
     },
     "output_type": "display_data"
    }
   ],
   "source": [
    "df_daily_returns.plot.density()"
   ]
  },
  {
   "cell_type": "code",
   "execution_count": null,
   "metadata": {},
   "outputs": [],
   "source": []
  },
  {
   "cell_type": "code",
   "execution_count": 193,
   "metadata": {},
   "outputs": [
    {
     "data": {
      "text/html": [
       "<div>\n",
       "<style scoped>\n",
       "    .dataframe tbody tr th:only-of-type {\n",
       "        vertical-align: middle;\n",
       "    }\n",
       "\n",
       "    .dataframe tbody tr th {\n",
       "        vertical-align: top;\n",
       "    }\n",
       "\n",
       "    .dataframe thead tr th {\n",
       "        text-align: left;\n",
       "    }\n",
       "\n",
       "    .dataframe thead tr:last-of-type th {\n",
       "        text-align: right;\n",
       "    }\n",
       "</style>\n",
       "<table border=\"1\" class=\"dataframe\">\n",
       "  <thead>\n",
       "    <tr>\n",
       "      <th></th>\n",
       "      <th colspan=\"5\" halign=\"left\">BRK.B</th>\n",
       "      <th colspan=\"5\" halign=\"left\">JNJ</th>\n",
       "      <th colspan=\"5\" halign=\"left\">PG</th>\n",
       "      <th colspan=\"5\" halign=\"left\">WMT</th>\n",
       "    </tr>\n",
       "    <tr>\n",
       "      <th></th>\n",
       "      <th>open</th>\n",
       "      <th>high</th>\n",
       "      <th>low</th>\n",
       "      <th>close</th>\n",
       "      <th>volume</th>\n",
       "      <th>open</th>\n",
       "      <th>high</th>\n",
       "      <th>low</th>\n",
       "      <th>close</th>\n",
       "      <th>volume</th>\n",
       "      <th>open</th>\n",
       "      <th>high</th>\n",
       "      <th>low</th>\n",
       "      <th>close</th>\n",
       "      <th>volume</th>\n",
       "      <th>open</th>\n",
       "      <th>high</th>\n",
       "      <th>low</th>\n",
       "      <th>close</th>\n",
       "      <th>volume</th>\n",
       "    </tr>\n",
       "    <tr>\n",
       "      <th>time</th>\n",
       "      <th></th>\n",
       "      <th></th>\n",
       "      <th></th>\n",
       "      <th></th>\n",
       "      <th></th>\n",
       "      <th></th>\n",
       "      <th></th>\n",
       "      <th></th>\n",
       "      <th></th>\n",
       "      <th></th>\n",
       "      <th></th>\n",
       "      <th></th>\n",
       "      <th></th>\n",
       "      <th></th>\n",
       "      <th></th>\n",
       "      <th></th>\n",
       "      <th></th>\n",
       "      <th></th>\n",
       "      <th></th>\n",
       "      <th></th>\n",
       "    </tr>\n",
       "  </thead>\n",
       "  <tbody>\n",
       "    <tr>\n",
       "      <th>2020-07-30 00:00:00-04:00</th>\n",
       "      <td>193.43</td>\n",
       "      <td>194.57</td>\n",
       "      <td>192.25</td>\n",
       "      <td>194.30</td>\n",
       "      <td>7833392</td>\n",
       "      <td>147.44</td>\n",
       "      <td>147.50</td>\n",
       "      <td>146.1400</td>\n",
       "      <td>146.91</td>\n",
       "      <td>9763807</td>\n",
       "      <td>130.6600</td>\n",
       "      <td>132.03</td>\n",
       "      <td>129.65</td>\n",
       "      <td>131.44</td>\n",
       "      <td>19483626</td>\n",
       "      <td>129.42</td>\n",
       "      <td>130.420</td>\n",
       "      <td>128.7200</td>\n",
       "      <td>130.11</td>\n",
       "      <td>8392139.0</td>\n",
       "    </tr>\n",
       "    <tr>\n",
       "      <th>2020-07-31 00:00:00-04:00</th>\n",
       "      <td>195.06</td>\n",
       "      <td>196.00</td>\n",
       "      <td>193.33</td>\n",
       "      <td>195.82</td>\n",
       "      <td>9647813</td>\n",
       "      <td>146.66</td>\n",
       "      <td>147.45</td>\n",
       "      <td>143.9600</td>\n",
       "      <td>145.83</td>\n",
       "      <td>9768418</td>\n",
       "      <td>130.0065</td>\n",
       "      <td>131.21</td>\n",
       "      <td>129.27</td>\n",
       "      <td>131.06</td>\n",
       "      <td>13357282</td>\n",
       "      <td>129.65</td>\n",
       "      <td>130.090</td>\n",
       "      <td>127.6200</td>\n",
       "      <td>129.43</td>\n",
       "      <td>11348242.0</td>\n",
       "    </tr>\n",
       "    <tr>\n",
       "      <th>2020-08-03 00:00:00-04:00</th>\n",
       "      <td>197.28</td>\n",
       "      <td>200.68</td>\n",
       "      <td>196.00</td>\n",
       "      <td>199.14</td>\n",
       "      <td>10906183</td>\n",
       "      <td>146.39</td>\n",
       "      <td>147.79</td>\n",
       "      <td>146.1500</td>\n",
       "      <td>147.35</td>\n",
       "      <td>6688411</td>\n",
       "      <td>130.4700</td>\n",
       "      <td>131.92</td>\n",
       "      <td>130.47</td>\n",
       "      <td>131.33</td>\n",
       "      <td>10165541</td>\n",
       "      <td>129.91</td>\n",
       "      <td>130.115</td>\n",
       "      <td>128.2713</td>\n",
       "      <td>129.30</td>\n",
       "      <td>8938403.0</td>\n",
       "    </tr>\n",
       "    <tr>\n",
       "      <th>2020-08-04 00:00:00-04:00</th>\n",
       "      <td>198.97</td>\n",
       "      <td>200.31</td>\n",
       "      <td>198.11</td>\n",
       "      <td>200.31</td>\n",
       "      <td>6409839</td>\n",
       "      <td>146.99</td>\n",
       "      <td>147.22</td>\n",
       "      <td>145.8247</td>\n",
       "      <td>147.21</td>\n",
       "      <td>6513500</td>\n",
       "      <td>130.7700</td>\n",
       "      <td>133.93</td>\n",
       "      <td>130.70</td>\n",
       "      <td>133.80</td>\n",
       "      <td>13928394</td>\n",
       "      <td>129.65</td>\n",
       "      <td>131.710</td>\n",
       "      <td>128.9400</td>\n",
       "      <td>131.62</td>\n",
       "      <td>11032656.0</td>\n",
       "    </tr>\n",
       "    <tr>\n",
       "      <th>2020-08-05 00:00:00-04:00</th>\n",
       "      <td>201.44</td>\n",
       "      <td>204.69</td>\n",
       "      <td>201.00</td>\n",
       "      <td>203.62</td>\n",
       "      <td>9203352</td>\n",
       "      <td>149.10</td>\n",
       "      <td>149.31</td>\n",
       "      <td>147.8000</td>\n",
       "      <td>148.39</td>\n",
       "      <td>9076497</td>\n",
       "      <td>133.5900</td>\n",
       "      <td>134.65</td>\n",
       "      <td>133.12</td>\n",
       "      <td>133.45</td>\n",
       "      <td>9733012</td>\n",
       "      <td>130.45</td>\n",
       "      <td>130.750</td>\n",
       "      <td>128.8300</td>\n",
       "      <td>129.80</td>\n",
       "      <td>15762112.0</td>\n",
       "    </tr>\n",
       "  </tbody>\n",
       "</table>\n",
       "</div>"
      ],
      "text/plain": [
       "                            BRK.B                                       JNJ  \\\n",
       "                             open    high     low   close    volume    open   \n",
       "time                                                                          \n",
       "2020-07-30 00:00:00-04:00  193.43  194.57  192.25  194.30   7833392  147.44   \n",
       "2020-07-31 00:00:00-04:00  195.06  196.00  193.33  195.82   9647813  146.66   \n",
       "2020-08-03 00:00:00-04:00  197.28  200.68  196.00  199.14  10906183  146.39   \n",
       "2020-08-04 00:00:00-04:00  198.97  200.31  198.11  200.31   6409839  146.99   \n",
       "2020-08-05 00:00:00-04:00  201.44  204.69  201.00  203.62   9203352  149.10   \n",
       "\n",
       "                                                                    PG  \\\n",
       "                             high       low   close   volume      open   \n",
       "time                                                                     \n",
       "2020-07-30 00:00:00-04:00  147.50  146.1400  146.91  9763807  130.6600   \n",
       "2020-07-31 00:00:00-04:00  147.45  143.9600  145.83  9768418  130.0065   \n",
       "2020-08-03 00:00:00-04:00  147.79  146.1500  147.35  6688411  130.4700   \n",
       "2020-08-04 00:00:00-04:00  147.22  145.8247  147.21  6513500  130.7700   \n",
       "2020-08-05 00:00:00-04:00  149.31  147.8000  148.39  9076497  133.5900   \n",
       "\n",
       "                                                                WMT           \\\n",
       "                             high     low   close    volume    open     high   \n",
       "time                                                                           \n",
       "2020-07-30 00:00:00-04:00  132.03  129.65  131.44  19483626  129.42  130.420   \n",
       "2020-07-31 00:00:00-04:00  131.21  129.27  131.06  13357282  129.65  130.090   \n",
       "2020-08-03 00:00:00-04:00  131.92  130.47  131.33  10165541  129.91  130.115   \n",
       "2020-08-04 00:00:00-04:00  133.93  130.70  133.80  13928394  129.65  131.710   \n",
       "2020-08-05 00:00:00-04:00  134.65  133.12  133.45   9733012  130.45  130.750   \n",
       "\n",
       "                                                         \n",
       "                                low   close      volume  \n",
       "time                                                     \n",
       "2020-07-30 00:00:00-04:00  128.7200  130.11   8392139.0  \n",
       "2020-07-31 00:00:00-04:00  127.6200  129.43  11348242.0  \n",
       "2020-08-03 00:00:00-04:00  128.2713  129.30   8938403.0  \n",
       "2020-08-04 00:00:00-04:00  128.9400  131.62  11032656.0  \n",
       "2020-08-05 00:00:00-04:00  128.8300  129.80  15762112.0  "
      ]
     },
     "execution_count": 193,
     "metadata": {},
     "output_type": "execute_result"
    }
   ],
   "source": [
    "# Set timeframe to '1D'\n",
    "timeframe = \"1D\"\n",
    "\n",
    "# Set start and end datetime.\n",
    "start_date = pd.Timestamp(\"2020-07-30\", tz=\"America/New_York\").isoformat()\n",
    "end_date = pd.Timestamp(\"2021-07-30\", tz=\"America/New_York\").isoformat()\n",
    "\n",
    "# Set the ticker information\n",
    "tickers = [\"BRK.B\",\"JNJ\",\"PG\",\"WMT\"]\n",
    "\n",
    "# Get historical price data\n",
    "winners_df_ticker = api.get_barset(\n",
    "    tickers,\n",
    "    timeframe,\n",
    "    start=start_date,\n",
    "    end=end_date,\n",
    "    limit=1000\n",
    ").df\n",
    "\n",
    "# Display sample data\n",
    "winners_df_ticker.head()"
   ]
  },
  {
   "cell_type": "code",
   "execution_count": 194,
   "metadata": {},
   "outputs": [
    {
     "data": {
      "text/html": [
       "<div>\n",
       "<style scoped>\n",
       "    .dataframe tbody tr th:only-of-type {\n",
       "        vertical-align: middle;\n",
       "    }\n",
       "\n",
       "    .dataframe tbody tr th {\n",
       "        vertical-align: top;\n",
       "    }\n",
       "\n",
       "    .dataframe thead th {\n",
       "        text-align: right;\n",
       "    }\n",
       "</style>\n",
       "<table border=\"1\" class=\"dataframe\">\n",
       "  <thead>\n",
       "    <tr style=\"text-align: right;\">\n",
       "      <th></th>\n",
       "      <th>BRK.B</th>\n",
       "      <th>JNJ</th>\n",
       "      <th>PG</th>\n",
       "      <th>WMT</th>\n",
       "    </tr>\n",
       "  </thead>\n",
       "  <tbody>\n",
       "    <tr>\n",
       "      <th>2020-07-30</th>\n",
       "      <td>194.30</td>\n",
       "      <td>146.91</td>\n",
       "      <td>131.44</td>\n",
       "      <td>130.11</td>\n",
       "    </tr>\n",
       "    <tr>\n",
       "      <th>2020-07-31</th>\n",
       "      <td>195.82</td>\n",
       "      <td>145.83</td>\n",
       "      <td>131.06</td>\n",
       "      <td>129.43</td>\n",
       "    </tr>\n",
       "    <tr>\n",
       "      <th>2020-08-03</th>\n",
       "      <td>199.14</td>\n",
       "      <td>147.35</td>\n",
       "      <td>131.33</td>\n",
       "      <td>129.30</td>\n",
       "    </tr>\n",
       "    <tr>\n",
       "      <th>2020-08-04</th>\n",
       "      <td>200.31</td>\n",
       "      <td>147.21</td>\n",
       "      <td>133.80</td>\n",
       "      <td>131.62</td>\n",
       "    </tr>\n",
       "    <tr>\n",
       "      <th>2020-08-05</th>\n",
       "      <td>203.62</td>\n",
       "      <td>148.39</td>\n",
       "      <td>133.45</td>\n",
       "      <td>129.80</td>\n",
       "    </tr>\n",
       "  </tbody>\n",
       "</table>\n",
       "</div>"
      ],
      "text/plain": [
       "             BRK.B     JNJ      PG     WMT\n",
       "2020-07-30  194.30  146.91  131.44  130.11\n",
       "2020-07-31  195.82  145.83  131.06  129.43\n",
       "2020-08-03  199.14  147.35  131.33  129.30\n",
       "2020-08-04  200.31  147.21  133.80  131.62\n",
       "2020-08-05  203.62  148.39  133.45  129.80"
      ]
     },
     "execution_count": 194,
     "metadata": {},
     "output_type": "execute_result"
    }
   ],
   "source": [
    "wn_closing_prices = pd.DataFrame()\n",
    "\n",
    "# Fetch the closing prices for all the tickers\n",
    "for ticker in tickers:\n",
    "    wn_closing_prices[ticker] = winners_df_ticker[ticker][\"close\"]\n",
    "\n",
    "# Drop the time component of the date\n",
    "wn_closing_prices.index = wn_closing_prices.index.date\n",
    "\n",
    "# Display sample data\n",
    "wn_closing_prices.head()"
   ]
  },
  {
   "cell_type": "code",
   "execution_count": 195,
   "metadata": {},
   "outputs": [
    {
     "data": {
      "text/html": [
       "<div>\n",
       "<style scoped>\n",
       "    .dataframe tbody tr th:only-of-type {\n",
       "        vertical-align: middle;\n",
       "    }\n",
       "\n",
       "    .dataframe tbody tr th {\n",
       "        vertical-align: top;\n",
       "    }\n",
       "\n",
       "    .dataframe thead th {\n",
       "        text-align: right;\n",
       "    }\n",
       "</style>\n",
       "<table border=\"1\" class=\"dataframe\">\n",
       "  <thead>\n",
       "    <tr style=\"text-align: right;\">\n",
       "      <th></th>\n",
       "      <th>BRK.B</th>\n",
       "      <th>JNJ</th>\n",
       "      <th>PG</th>\n",
       "      <th>WMT</th>\n",
       "    </tr>\n",
       "  </thead>\n",
       "  <tbody>\n",
       "    <tr>\n",
       "      <th>2020-07-31</th>\n",
       "      <td>0.007823</td>\n",
       "      <td>-0.007351</td>\n",
       "      <td>-0.002891</td>\n",
       "      <td>-0.005226</td>\n",
       "    </tr>\n",
       "    <tr>\n",
       "      <th>2020-08-03</th>\n",
       "      <td>0.016954</td>\n",
       "      <td>0.010423</td>\n",
       "      <td>0.002060</td>\n",
       "      <td>-0.001004</td>\n",
       "    </tr>\n",
       "    <tr>\n",
       "      <th>2020-08-04</th>\n",
       "      <td>0.005875</td>\n",
       "      <td>-0.000950</td>\n",
       "      <td>0.018808</td>\n",
       "      <td>0.017943</td>\n",
       "    </tr>\n",
       "    <tr>\n",
       "      <th>2020-08-05</th>\n",
       "      <td>0.016524</td>\n",
       "      <td>0.008016</td>\n",
       "      <td>-0.002616</td>\n",
       "      <td>-0.013828</td>\n",
       "    </tr>\n",
       "    <tr>\n",
       "      <th>2020-08-06</th>\n",
       "      <td>0.007219</td>\n",
       "      <td>-0.005661</td>\n",
       "      <td>-0.005545</td>\n",
       "      <td>-0.003467</td>\n",
       "    </tr>\n",
       "  </tbody>\n",
       "</table>\n",
       "</div>"
      ],
      "text/plain": [
       "               BRK.B       JNJ        PG       WMT\n",
       "2020-07-31  0.007823 -0.007351 -0.002891 -0.005226\n",
       "2020-08-03  0.016954  0.010423  0.002060 -0.001004\n",
       "2020-08-04  0.005875 -0.000950  0.018808  0.017943\n",
       "2020-08-05  0.016524  0.008016 -0.002616 -0.013828\n",
       "2020-08-06  0.007219 -0.005661 -0.005545 -0.003467"
      ]
     },
     "execution_count": 195,
     "metadata": {},
     "output_type": "execute_result"
    }
   ],
   "source": [
    "wn_daily_returns  = wn_closing_prices.pct_change().dropna()\n",
    "wn_daily_returns.head()"
   ]
  },
  {
   "cell_type": "code",
   "execution_count": 196,
   "metadata": {},
   "outputs": [
    {
     "data": {
      "text/plain": [
       "<AxesSubplot:ylabel='Frequency'>"
      ]
     },
     "execution_count": 196,
     "metadata": {},
     "output_type": "execute_result"
    },
    {
     "data": {
      "image/png": "[encoded data removed]",
      "text/plain": [
       "<Figure size 432x288 with 1 Axes>"
      ]
     },
     "metadata": {
      "needs_background": "light"
     },
     "output_type": "display_data"
    }
   ],
   "source": [
    "wn_daily_returns.plot.hist(alpha=0.5)"
   ]
  },
  {
   "cell_type": "code",
   "execution_count": 197,
   "metadata": {},
   "outputs": [
    {
     "data": {
      "text/plain": [
       "<AxesSubplot:ylabel='Density'>"
      ]
     },
     "execution_count": 197,
     "metadata": {},
     "output_type": "execute_result"
    },
    {
     "data": {
      "image/png": "[encoded data removed]",
      "text/plain": [
       "<Figure size 432x288 with 1 Axes>"
      ]
     },
     "metadata": {
      "needs_background": "light"
     },
     "output_type": "display_data"
    }
   ],
   "source": [
    "wn_daily_returns.plot.density()"
   ]
  },
  {
   "cell_type": "markdown",
   "metadata": {},
   "source": [
    "5 Years of Simulation of the 5 Top Stocks of equal weights"
   ]
  },
  {
   "cell_type": "code",
   "execution_count": 199,
   "metadata": {},
   "outputs": [
    {
     "data": {
      "text/html": [
       "<div>\n",
       "<style scoped>\n",
       "    .dataframe tbody tr th:only-of-type {\n",
       "        vertical-align: middle;\n",
       "    }\n",
       "\n",
       "    .dataframe tbody tr th {\n",
       "        vertical-align: top;\n",
       "    }\n",
       "\n",
       "    .dataframe thead tr th {\n",
       "        text-align: left;\n",
       "    }\n",
       "\n",
       "    .dataframe thead tr:last-of-type th {\n",
       "        text-align: right;\n",
       "    }\n",
       "</style>\n",
       "<table border=\"1\" class=\"dataframe\">\n",
       "  <thead>\n",
       "    <tr>\n",
       "      <th></th>\n",
       "      <th colspan=\"6\" halign=\"left\">BRK.B</th>\n",
       "      <th colspan=\"4\" halign=\"left\">JNJ</th>\n",
       "      <th>...</th>\n",
       "      <th colspan=\"4\" halign=\"left\">PG</th>\n",
       "      <th colspan=\"6\" halign=\"left\">WMT</th>\n",
       "    </tr>\n",
       "    <tr>\n",
       "      <th></th>\n",
       "      <th>open</th>\n",
       "      <th>high</th>\n",
       "      <th>low</th>\n",
       "      <th>close</th>\n",
       "      <th>volume</th>\n",
       "      <th>daily_return</th>\n",
       "      <th>open</th>\n",
       "      <th>high</th>\n",
       "      <th>low</th>\n",
       "      <th>close</th>\n",
       "      <th>...</th>\n",
       "      <th>low</th>\n",
       "      <th>close</th>\n",
       "      <th>volume</th>\n",
       "      <th>daily_return</th>\n",
       "      <th>open</th>\n",
       "      <th>high</th>\n",
       "      <th>low</th>\n",
       "      <th>close</th>\n",
       "      <th>volume</th>\n",
       "      <th>daily_return</th>\n",
       "    </tr>\n",
       "    <tr>\n",
       "      <th>time</th>\n",
       "      <th></th>\n",
       "      <th></th>\n",
       "      <th></th>\n",
       "      <th></th>\n",
       "      <th></th>\n",
       "      <th></th>\n",
       "      <th></th>\n",
       "      <th></th>\n",
       "      <th></th>\n",
       "      <th></th>\n",
       "      <th></th>\n",
       "      <th></th>\n",
       "      <th></th>\n",
       "      <th></th>\n",
       "      <th></th>\n",
       "      <th></th>\n",
       "      <th></th>\n",
       "      <th></th>\n",
       "      <th></th>\n",
       "      <th></th>\n",
       "      <th></th>\n",
       "    </tr>\n",
       "  </thead>\n",
       "  <tbody>\n",
       "    <tr>\n",
       "      <th>2020-07-30 00:00:00-04:00</th>\n",
       "      <td>193.43</td>\n",
       "      <td>194.57</td>\n",
       "      <td>192.25</td>\n",
       "      <td>194.30</td>\n",
       "      <td>7833392</td>\n",
       "      <td>NaN</td>\n",
       "      <td>147.44</td>\n",
       "      <td>147.50</td>\n",
       "      <td>146.1400</td>\n",
       "      <td>146.91</td>\n",
       "      <td>...</td>\n",
       "      <td>129.65</td>\n",
       "      <td>131.44</td>\n",
       "      <td>19483626</td>\n",
       "      <td>NaN</td>\n",
       "      <td>129.42</td>\n",
       "      <td>130.420</td>\n",
       "      <td>128.7200</td>\n",
       "      <td>130.11</td>\n",
       "      <td>8392139.0</td>\n",
       "      <td>NaN</td>\n",
       "    </tr>\n",
       "    <tr>\n",
       "      <th>2020-07-31 00:00:00-04:00</th>\n",
       "      <td>195.06</td>\n",
       "      <td>196.00</td>\n",
       "      <td>193.33</td>\n",
       "      <td>195.82</td>\n",
       "      <td>9647813</td>\n",
       "      <td>0.007823</td>\n",
       "      <td>146.66</td>\n",
       "      <td>147.45</td>\n",
       "      <td>143.9600</td>\n",
       "      <td>145.83</td>\n",
       "      <td>...</td>\n",
       "      <td>129.27</td>\n",
       "      <td>131.06</td>\n",
       "      <td>13357282</td>\n",
       "      <td>-0.002891</td>\n",
       "      <td>129.65</td>\n",
       "      <td>130.090</td>\n",
       "      <td>127.6200</td>\n",
       "      <td>129.43</td>\n",
       "      <td>11348242.0</td>\n",
       "      <td>-0.005226</td>\n",
       "    </tr>\n",
       "    <tr>\n",
       "      <th>2020-08-03 00:00:00-04:00</th>\n",
       "      <td>197.28</td>\n",
       "      <td>200.68</td>\n",
       "      <td>196.00</td>\n",
       "      <td>199.14</td>\n",
       "      <td>10906183</td>\n",
       "      <td>0.016954</td>\n",
       "      <td>146.39</td>\n",
       "      <td>147.79</td>\n",
       "      <td>146.1500</td>\n",
       "      <td>147.35</td>\n",
       "      <td>...</td>\n",
       "      <td>130.47</td>\n",
       "      <td>131.33</td>\n",
       "      <td>10165541</td>\n",
       "      <td>0.002060</td>\n",
       "      <td>129.91</td>\n",
       "      <td>130.115</td>\n",
       "      <td>128.2713</td>\n",
       "      <td>129.30</td>\n",
       "      <td>8938403.0</td>\n",
       "      <td>-0.001004</td>\n",
       "    </tr>\n",
       "    <tr>\n",
       "      <th>2020-08-04 00:00:00-04:00</th>\n",
       "      <td>198.97</td>\n",
       "      <td>200.31</td>\n",
       "      <td>198.11</td>\n",
       "      <td>200.31</td>\n",
       "      <td>6409839</td>\n",
       "      <td>0.005875</td>\n",
       "      <td>146.99</td>\n",
       "      <td>147.22</td>\n",
       "      <td>145.8247</td>\n",
       "      <td>147.21</td>\n",
       "      <td>...</td>\n",
       "      <td>130.70</td>\n",
       "      <td>133.80</td>\n",
       "      <td>13928394</td>\n",
       "      <td>0.018808</td>\n",
       "      <td>129.65</td>\n",
       "      <td>131.710</td>\n",
       "      <td>128.9400</td>\n",
       "      <td>131.62</td>\n",
       "      <td>11032656.0</td>\n",
       "      <td>0.017943</td>\n",
       "    </tr>\n",
       "    <tr>\n",
       "      <th>2020-08-05 00:00:00-04:00</th>\n",
       "      <td>201.44</td>\n",
       "      <td>204.69</td>\n",
       "      <td>201.00</td>\n",
       "      <td>203.62</td>\n",
       "      <td>9203352</td>\n",
       "      <td>0.016524</td>\n",
       "      <td>149.10</td>\n",
       "      <td>149.31</td>\n",
       "      <td>147.8000</td>\n",
       "      <td>148.39</td>\n",
       "      <td>...</td>\n",
       "      <td>133.12</td>\n",
       "      <td>133.45</td>\n",
       "      <td>9733012</td>\n",
       "      <td>-0.002616</td>\n",
       "      <td>130.45</td>\n",
       "      <td>130.750</td>\n",
       "      <td>128.8300</td>\n",
       "      <td>129.80</td>\n",
       "      <td>15762112.0</td>\n",
       "      <td>-0.013828</td>\n",
       "    </tr>\n",
       "  </tbody>\n",
       "</table>\n",
       "<p>5 rows × 24 columns</p>\n",
       "</div>"
      ],
      "text/plain": [
       "                            BRK.B                                    \\\n",
       "                             open    high     low   close    volume   \n",
       "time                                                                  \n",
       "2020-07-30 00:00:00-04:00  193.43  194.57  192.25  194.30   7833392   \n",
       "2020-07-31 00:00:00-04:00  195.06  196.00  193.33  195.82   9647813   \n",
       "2020-08-03 00:00:00-04:00  197.28  200.68  196.00  199.14  10906183   \n",
       "2020-08-04 00:00:00-04:00  198.97  200.31  198.11  200.31   6409839   \n",
       "2020-08-05 00:00:00-04:00  201.44  204.69  201.00  203.62   9203352   \n",
       "\n",
       "                                           JNJ                            ...  \\\n",
       "                          daily_return    open    high       low   close  ...   \n",
       "time                                                                      ...   \n",
       "2020-07-30 00:00:00-04:00          NaN  147.44  147.50  146.1400  146.91  ...   \n",
       "2020-07-31 00:00:00-04:00     0.007823  146.66  147.45  143.9600  145.83  ...   \n",
       "2020-08-03 00:00:00-04:00     0.016954  146.39  147.79  146.1500  147.35  ...   \n",
       "2020-08-04 00:00:00-04:00     0.005875  146.99  147.22  145.8247  147.21  ...   \n",
       "2020-08-05 00:00:00-04:00     0.016524  149.10  149.31  147.8000  148.39  ...   \n",
       "\n",
       "                               PG                                    WMT  \\\n",
       "                              low   close    volume daily_return    open   \n",
       "time                                                                       \n",
       "2020-07-30 00:00:00-04:00  129.65  131.44  19483626          NaN  129.42   \n",
       "2020-07-31 00:00:00-04:00  129.27  131.06  13357282    -0.002891  129.65   \n",
       "2020-08-03 00:00:00-04:00  130.47  131.33  10165541     0.002060  129.91   \n",
       "2020-08-04 00:00:00-04:00  130.70  133.80  13928394     0.018808  129.65   \n",
       "2020-08-05 00:00:00-04:00  133.12  133.45   9733012    -0.002616  130.45   \n",
       "\n",
       "                                                                               \n",
       "                              high       low   close      volume daily_return  \n",
       "time                                                                           \n",
       "2020-07-30 00:00:00-04:00  130.420  128.7200  130.11   8392139.0          NaN  \n",
       "2020-07-31 00:00:00-04:00  130.090  127.6200  129.43  11348242.0    -0.005226  \n",
       "2020-08-03 00:00:00-04:00  130.115  128.2713  129.30   8938403.0    -0.001004  \n",
       "2020-08-04 00:00:00-04:00  131.710  128.9400  131.62  11032656.0     0.017943  \n",
       "2020-08-05 00:00:00-04:00  130.750  128.8300  129.80  15762112.0    -0.013828  \n",
       "\n",
       "[5 rows x 24 columns]"
      ]
     },
     "execution_count": 199,
     "metadata": {},
     "output_type": "execute_result"
    }
   ],
   "source": [
    "MC_even_dist = MCSimulation(\n",
    "    portfolio_data = winners_df_ticker,\n",
    "    weights = [.25,.25,.25,.25],\n",
    "    num_simulation = 1000,\n",
    "    num_trading_days = 252*5\n",
    ")\n",
    "MC_even_dist.portfolio_data.head()"
   ]
  },
  {
   "cell_type": "code",
   "execution_count": 200,
   "metadata": {},
   "outputs": [
    {
     "data": {
      "text/html": [
       "<div>\n",
       "<style scoped>\n",
       "    .dataframe tbody tr th:only-of-type {\n",
       "        vertical-align: middle;\n",
       "    }\n",
       "\n",
       "    .dataframe tbody tr th {\n",
       "        vertical-align: top;\n",
       "    }\n",
       "\n",
       "    .dataframe thead th {\n",
       "        text-align: right;\n",
       "    }\n",
       "</style>\n",
       "<table border=\"1\" class=\"dataframe\">\n",
       "  <thead>\n",
       "    <tr style=\"text-align: right;\">\n",
       "      <th></th>\n",
       "      <th>BRK.B</th>\n",
       "      <th>JNJ</th>\n",
       "      <th>PG</th>\n",
       "      <th>WMT</th>\n",
       "    </tr>\n",
       "  </thead>\n",
       "  <tbody>\n",
       "    <tr>\n",
       "      <th>2020-07-30</th>\n",
       "      <td>194.30</td>\n",
       "      <td>146.91</td>\n",
       "      <td>131.44</td>\n",
       "      <td>130.11</td>\n",
       "    </tr>\n",
       "    <tr>\n",
       "      <th>2020-07-31</th>\n",
       "      <td>195.82</td>\n",
       "      <td>145.83</td>\n",
       "      <td>131.06</td>\n",
       "      <td>129.43</td>\n",
       "    </tr>\n",
       "    <tr>\n",
       "      <th>2020-08-03</th>\n",
       "      <td>199.14</td>\n",
       "      <td>147.35</td>\n",
       "      <td>131.33</td>\n",
       "      <td>129.30</td>\n",
       "    </tr>\n",
       "    <tr>\n",
       "      <th>2020-08-04</th>\n",
       "      <td>200.31</td>\n",
       "      <td>147.21</td>\n",
       "      <td>133.80</td>\n",
       "      <td>131.62</td>\n",
       "    </tr>\n",
       "    <tr>\n",
       "      <th>2020-08-05</th>\n",
       "      <td>203.62</td>\n",
       "      <td>148.39</td>\n",
       "      <td>133.45</td>\n",
       "      <td>129.80</td>\n",
       "    </tr>\n",
       "  </tbody>\n",
       "</table>\n",
       "</div>"
      ],
      "text/plain": [
       "             BRK.B     JNJ      PG     WMT\n",
       "2020-07-30  194.30  146.91  131.44  130.11\n",
       "2020-07-31  195.82  145.83  131.06  129.43\n",
       "2020-08-03  199.14  147.35  131.33  129.30\n",
       "2020-08-04  200.31  147.21  133.80  131.62\n",
       "2020-08-05  203.62  148.39  133.45  129.80"
      ]
     },
     "execution_count": 200,
     "metadata": {},
     "output_type": "execute_result"
    }
   ],
   "source": [
    "wn_closing_prices = pd.DataFrame()\n",
    "\n",
    "# Fetch the closing prices for all the tickers\n",
    "for ticker in tickers:\n",
    "    wn_closing_prices[ticker] = winners_df_ticker[ticker][\"close\"]\n",
    "\n",
    "# Drop the time component of the date\n",
    "wn_closing_prices.index = wn_closing_prices.index.date\n",
    "\n",
    "# Display sample data\n",
    "wn_closing_prices.head()"
   ]
  },
  {
   "cell_type": "code",
   "execution_count": 201,
   "metadata": {},
   "outputs": [
    {
     "data": {
      "text/html": [
       "<div>\n",
       "<style scoped>\n",
       "    .dataframe tbody tr th:only-of-type {\n",
       "        vertical-align: middle;\n",
       "    }\n",
       "\n",
       "    .dataframe tbody tr th {\n",
       "        vertical-align: top;\n",
       "    }\n",
       "\n",
       "    .dataframe thead th {\n",
       "        text-align: right;\n",
       "    }\n",
       "</style>\n",
       "<table border=\"1\" class=\"dataframe\">\n",
       "  <thead>\n",
       "    <tr style=\"text-align: right;\">\n",
       "      <th></th>\n",
       "      <th>BRK.B</th>\n",
       "      <th>JNJ</th>\n",
       "      <th>PG</th>\n",
       "      <th>WMT</th>\n",
       "    </tr>\n",
       "  </thead>\n",
       "  <tbody>\n",
       "    <tr>\n",
       "      <th>2020-07-31</th>\n",
       "      <td>0.007823</td>\n",
       "      <td>-0.007351</td>\n",
       "      <td>-0.002891</td>\n",
       "      <td>-0.005226</td>\n",
       "    </tr>\n",
       "    <tr>\n",
       "      <th>2020-08-03</th>\n",
       "      <td>0.016954</td>\n",
       "      <td>0.010423</td>\n",
       "      <td>0.002060</td>\n",
       "      <td>-0.001004</td>\n",
       "    </tr>\n",
       "    <tr>\n",
       "      <th>2020-08-04</th>\n",
       "      <td>0.005875</td>\n",
       "      <td>-0.000950</td>\n",
       "      <td>0.018808</td>\n",
       "      <td>0.017943</td>\n",
       "    </tr>\n",
       "    <tr>\n",
       "      <th>2020-08-05</th>\n",
       "      <td>0.016524</td>\n",
       "      <td>0.008016</td>\n",
       "      <td>-0.002616</td>\n",
       "      <td>-0.013828</td>\n",
       "    </tr>\n",
       "    <tr>\n",
       "      <th>2020-08-06</th>\n",
       "      <td>0.007219</td>\n",
       "      <td>-0.005661</td>\n",
       "      <td>-0.005545</td>\n",
       "      <td>-0.003467</td>\n",
       "    </tr>\n",
       "  </tbody>\n",
       "</table>\n",
       "</div>"
      ],
      "text/plain": [
       "               BRK.B       JNJ        PG       WMT\n",
       "2020-07-31  0.007823 -0.007351 -0.002891 -0.005226\n",
       "2020-08-03  0.016954  0.010423  0.002060 -0.001004\n",
       "2020-08-04  0.005875 -0.000950  0.018808  0.017943\n",
       "2020-08-05  0.016524  0.008016 -0.002616 -0.013828\n",
       "2020-08-06  0.007219 -0.005661 -0.005545 -0.003467"
      ]
     },
     "execution_count": 201,
     "metadata": {},
     "output_type": "execute_result"
    }
   ],
   "source": [
    "wn_daily_returns  = wn_closing_prices.pct_change().dropna()\n",
    "wn_daily_returns.head()"
   ]
  },
  {
   "cell_type": "code",
   "execution_count": 241,
   "metadata": {},
   "outputs": [
    {
     "data": {
      "text/plain": [
       "<AxesSubplot:ylabel='Density'>"
      ]
     },
     "execution_count": 241,
     "metadata": {},
     "output_type": "execute_result"
    },
    {
     "data": {
      "image/png": "[encoded data removed]",
      "text/plain": [
       "<Figure size 432x288 with 1 Axes>"
      ]
     },
     "metadata": {
      "needs_background": "light"
     },
     "output_type": "display_data"
    }
   ],
   "source": [
    "wn_daily_returns.plot.density()"
   ]
  },
  {
   "cell_type": "code",
   "execution_count": 240,
   "metadata": {},
   "outputs": [
    {
     "data": {
      "text/plain": [
       "<AxesSubplot:ylabel='Frequency'>"
      ]
     },
     "execution_count": 240,
     "metadata": {},
     "output_type": "execute_result"
    },
    {
     "data": {
      "image/png": "[encoded data removed]",
      "text/plain": [
       "<Figure size 432x288 with 1 Axes>"
      ]
     },
     "metadata": {
      "needs_background": "light"
     },
     "output_type": "display_data"
    }
   ],
   "source": [
    "wn_daily_returns.plot.hist(alpha=0.5)"
   ]
  },
  {
   "cell_type": "code",
   "execution_count": 242,
   "metadata": {},
   "outputs": [
    {
     "data": {
      "text/plain": [
       "<AxesSubplot:title={'center':'1000 Simulations of Cumulative Portfolio Return Trajectories Over the Next 1260 Trading Days.'}>"
      ]
     },
     "execution_count": 242,
     "metadata": {},
     "output_type": "execute_result"
    },
    {
     "data": {
      "image/png": "[encoded data removed]",
      "text/plain": [
       "<Figure size 432x288 with 1 Axes>"
      ]
     },
     "metadata": {
      "needs_background": "light"
     },
     "output_type": "display_data"
    }
   ],
   "source": [
    "MC_even_dist.plot_simulation()"
   ]
  },
  {
   "cell_type": "code",
   "execution_count": 203,
   "metadata": {},
   "outputs": [
    {
     "data": {
      "image/png": "[encoded data removed]",
      "text/plain": [
       "<Figure size 432x288 with 1 Axes>"
      ]
     },
     "metadata": {
      "needs_background": "light"
     },
     "output_type": "display_data"
    }
   ],
   "source": [
    "dist_plot = MC_even_dist.plot_distribution() "
   ]
  },
  {
   "cell_type": "code",
   "execution_count": 204,
   "metadata": {},
   "outputs": [],
   "source": [
    "even_tbl = MC_even_dist.summarize_cumulative_return()\n"
   ]
  },
  {
   "cell_type": "code",
   "execution_count": 205,
   "metadata": {},
   "outputs": [
    {
     "name": "stdout",
     "output_type": "stream",
     "text": [
      "count           1000.000000\n",
      "mean               2.531089\n",
      "std                0.506067\n",
      "min                1.426648\n",
      "25%                2.177624\n",
      "50%                2.461055\n",
      "75%                2.822922\n",
      "max                4.737929\n",
      "95% CI Lower       1.675150\n",
      "95% CI Upper       3.635193\n",
      "Name: 1260, dtype: float64\n"
     ]
    }
   ],
   "source": [
    "print(even_tbl) "
   ]
  },
  {
   "cell_type": "code",
   "execution_count": 206,
   "metadata": {},
   "outputs": [
    {
     "name": "stdout",
     "output_type": "stream",
     "text": [
      "There is a 95% chance that an initial investment of $10,000 in the portfolio over the next 5 years will end within in the range of $16751.5 and $36351.93.\n"
     ]
    }
   ],
   "source": [
    "# Use the lower and upper `95%` confidence intervals to calculate the range of the possible outcomes of our $10,000 investments in stocks\n",
    "even_ci_lower = round(even_tbl[8]*10000,2)\n",
    "even_ci_upper = round(even_tbl[9]*10000,2)\n",
    "\n",
    "# Print results\n",
    "print(f\"There is a 95% chance that an initial investment of $10,000 in the portfolio\"\n",
    "      f\" over the next 5 years will end within in the range of\"\n",
    "      f\" ${even_ci_lower} and ${even_ci_upper}.\")"
   ]
  },
  {
   "cell_type": "code",
   "execution_count": 207,
   "metadata": {},
   "outputs": [
    {
     "data": {
      "text/html": [
       "<div>\n",
       "<style scoped>\n",
       "    .dataframe tbody tr th:only-of-type {\n",
       "        vertical-align: middle;\n",
       "    }\n",
       "\n",
       "    .dataframe tbody tr th {\n",
       "        vertical-align: top;\n",
       "    }\n",
       "\n",
       "    .dataframe thead tr th {\n",
       "        text-align: left;\n",
       "    }\n",
       "\n",
       "    .dataframe thead tr:last-of-type th {\n",
       "        text-align: right;\n",
       "    }\n",
       "</style>\n",
       "<table border=\"1\" class=\"dataframe\">\n",
       "  <thead>\n",
       "    <tr>\n",
       "      <th></th>\n",
       "      <th colspan=\"6\" halign=\"left\">BRK.B</th>\n",
       "      <th colspan=\"4\" halign=\"left\">JNJ</th>\n",
       "      <th>...</th>\n",
       "      <th colspan=\"4\" halign=\"left\">PG</th>\n",
       "      <th colspan=\"6\" halign=\"left\">WMT</th>\n",
       "    </tr>\n",
       "    <tr>\n",
       "      <th></th>\n",
       "      <th>open</th>\n",
       "      <th>high</th>\n",
       "      <th>low</th>\n",
       "      <th>close</th>\n",
       "      <th>volume</th>\n",
       "      <th>daily_return</th>\n",
       "      <th>open</th>\n",
       "      <th>high</th>\n",
       "      <th>low</th>\n",
       "      <th>close</th>\n",
       "      <th>...</th>\n",
       "      <th>low</th>\n",
       "      <th>close</th>\n",
       "      <th>volume</th>\n",
       "      <th>daily_return</th>\n",
       "      <th>open</th>\n",
       "      <th>high</th>\n",
       "      <th>low</th>\n",
       "      <th>close</th>\n",
       "      <th>volume</th>\n",
       "      <th>daily_return</th>\n",
       "    </tr>\n",
       "    <tr>\n",
       "      <th>time</th>\n",
       "      <th></th>\n",
       "      <th></th>\n",
       "      <th></th>\n",
       "      <th></th>\n",
       "      <th></th>\n",
       "      <th></th>\n",
       "      <th></th>\n",
       "      <th></th>\n",
       "      <th></th>\n",
       "      <th></th>\n",
       "      <th></th>\n",
       "      <th></th>\n",
       "      <th></th>\n",
       "      <th></th>\n",
       "      <th></th>\n",
       "      <th></th>\n",
       "      <th></th>\n",
       "      <th></th>\n",
       "      <th></th>\n",
       "      <th></th>\n",
       "      <th></th>\n",
       "    </tr>\n",
       "  </thead>\n",
       "  <tbody>\n",
       "    <tr>\n",
       "      <th>2020-07-30 00:00:00-04:00</th>\n",
       "      <td>193.43</td>\n",
       "      <td>194.57</td>\n",
       "      <td>192.25</td>\n",
       "      <td>194.30</td>\n",
       "      <td>7833392</td>\n",
       "      <td>NaN</td>\n",
       "      <td>147.44</td>\n",
       "      <td>147.50</td>\n",
       "      <td>146.1400</td>\n",
       "      <td>146.91</td>\n",
       "      <td>...</td>\n",
       "      <td>129.65</td>\n",
       "      <td>131.44</td>\n",
       "      <td>19483626</td>\n",
       "      <td>NaN</td>\n",
       "      <td>129.42</td>\n",
       "      <td>130.420</td>\n",
       "      <td>128.7200</td>\n",
       "      <td>130.11</td>\n",
       "      <td>8392139.0</td>\n",
       "      <td>NaN</td>\n",
       "    </tr>\n",
       "    <tr>\n",
       "      <th>2020-07-31 00:00:00-04:00</th>\n",
       "      <td>195.06</td>\n",
       "      <td>196.00</td>\n",
       "      <td>193.33</td>\n",
       "      <td>195.82</td>\n",
       "      <td>9647813</td>\n",
       "      <td>0.007823</td>\n",
       "      <td>146.66</td>\n",
       "      <td>147.45</td>\n",
       "      <td>143.9600</td>\n",
       "      <td>145.83</td>\n",
       "      <td>...</td>\n",
       "      <td>129.27</td>\n",
       "      <td>131.06</td>\n",
       "      <td>13357282</td>\n",
       "      <td>-0.002891</td>\n",
       "      <td>129.65</td>\n",
       "      <td>130.090</td>\n",
       "      <td>127.6200</td>\n",
       "      <td>129.43</td>\n",
       "      <td>11348242.0</td>\n",
       "      <td>-0.005226</td>\n",
       "    </tr>\n",
       "    <tr>\n",
       "      <th>2020-08-03 00:00:00-04:00</th>\n",
       "      <td>197.28</td>\n",
       "      <td>200.68</td>\n",
       "      <td>196.00</td>\n",
       "      <td>199.14</td>\n",
       "      <td>10906183</td>\n",
       "      <td>0.016954</td>\n",
       "      <td>146.39</td>\n",
       "      <td>147.79</td>\n",
       "      <td>146.1500</td>\n",
       "      <td>147.35</td>\n",
       "      <td>...</td>\n",
       "      <td>130.47</td>\n",
       "      <td>131.33</td>\n",
       "      <td>10165541</td>\n",
       "      <td>0.002060</td>\n",
       "      <td>129.91</td>\n",
       "      <td>130.115</td>\n",
       "      <td>128.2713</td>\n",
       "      <td>129.30</td>\n",
       "      <td>8938403.0</td>\n",
       "      <td>-0.001004</td>\n",
       "    </tr>\n",
       "    <tr>\n",
       "      <th>2020-08-04 00:00:00-04:00</th>\n",
       "      <td>198.97</td>\n",
       "      <td>200.31</td>\n",
       "      <td>198.11</td>\n",
       "      <td>200.31</td>\n",
       "      <td>6409839</td>\n",
       "      <td>0.005875</td>\n",
       "      <td>146.99</td>\n",
       "      <td>147.22</td>\n",
       "      <td>145.8247</td>\n",
       "      <td>147.21</td>\n",
       "      <td>...</td>\n",
       "      <td>130.70</td>\n",
       "      <td>133.80</td>\n",
       "      <td>13928394</td>\n",
       "      <td>0.018808</td>\n",
       "      <td>129.65</td>\n",
       "      <td>131.710</td>\n",
       "      <td>128.9400</td>\n",
       "      <td>131.62</td>\n",
       "      <td>11032656.0</td>\n",
       "      <td>0.017943</td>\n",
       "    </tr>\n",
       "    <tr>\n",
       "      <th>2020-08-05 00:00:00-04:00</th>\n",
       "      <td>201.44</td>\n",
       "      <td>204.69</td>\n",
       "      <td>201.00</td>\n",
       "      <td>203.62</td>\n",
       "      <td>9203352</td>\n",
       "      <td>0.016524</td>\n",
       "      <td>149.10</td>\n",
       "      <td>149.31</td>\n",
       "      <td>147.8000</td>\n",
       "      <td>148.39</td>\n",
       "      <td>...</td>\n",
       "      <td>133.12</td>\n",
       "      <td>133.45</td>\n",
       "      <td>9733012</td>\n",
       "      <td>-0.002616</td>\n",
       "      <td>130.45</td>\n",
       "      <td>130.750</td>\n",
       "      <td>128.8300</td>\n",
       "      <td>129.80</td>\n",
       "      <td>15762112.0</td>\n",
       "      <td>-0.013828</td>\n",
       "    </tr>\n",
       "  </tbody>\n",
       "</table>\n",
       "<p>5 rows × 24 columns</p>\n",
       "</div>"
      ],
      "text/plain": [
       "                            BRK.B                                    \\\n",
       "                             open    high     low   close    volume   \n",
       "time                                                                  \n",
       "2020-07-30 00:00:00-04:00  193.43  194.57  192.25  194.30   7833392   \n",
       "2020-07-31 00:00:00-04:00  195.06  196.00  193.33  195.82   9647813   \n",
       "2020-08-03 00:00:00-04:00  197.28  200.68  196.00  199.14  10906183   \n",
       "2020-08-04 00:00:00-04:00  198.97  200.31  198.11  200.31   6409839   \n",
       "2020-08-05 00:00:00-04:00  201.44  204.69  201.00  203.62   9203352   \n",
       "\n",
       "                                           JNJ                            ...  \\\n",
       "                          daily_return    open    high       low   close  ...   \n",
       "time                                                                      ...   \n",
       "2020-07-30 00:00:00-04:00          NaN  147.44  147.50  146.1400  146.91  ...   \n",
       "2020-07-31 00:00:00-04:00     0.007823  146.66  147.45  143.9600  145.83  ...   \n",
       "2020-08-03 00:00:00-04:00     0.016954  146.39  147.79  146.1500  147.35  ...   \n",
       "2020-08-04 00:00:00-04:00     0.005875  146.99  147.22  145.8247  147.21  ...   \n",
       "2020-08-05 00:00:00-04:00     0.016524  149.10  149.31  147.8000  148.39  ...   \n",
       "\n",
       "                               PG                                    WMT  \\\n",
       "                              low   close    volume daily_return    open   \n",
       "time                                                                       \n",
       "2020-07-30 00:00:00-04:00  129.65  131.44  19483626          NaN  129.42   \n",
       "2020-07-31 00:00:00-04:00  129.27  131.06  13357282    -0.002891  129.65   \n",
       "2020-08-03 00:00:00-04:00  130.47  131.33  10165541     0.002060  129.91   \n",
       "2020-08-04 00:00:00-04:00  130.70  133.80  13928394     0.018808  129.65   \n",
       "2020-08-05 00:00:00-04:00  133.12  133.45   9733012    -0.002616  130.45   \n",
       "\n",
       "                                                                               \n",
       "                              high       low   close      volume daily_return  \n",
       "time                                                                           \n",
       "2020-07-30 00:00:00-04:00  130.420  128.7200  130.11   8392139.0          NaN  \n",
       "2020-07-31 00:00:00-04:00  130.090  127.6200  129.43  11348242.0    -0.005226  \n",
       "2020-08-03 00:00:00-04:00  130.115  128.2713  129.30   8938403.0    -0.001004  \n",
       "2020-08-04 00:00:00-04:00  131.710  128.9400  131.62  11032656.0     0.017943  \n",
       "2020-08-05 00:00:00-04:00  130.750  128.8300  129.80  15762112.0    -0.013828  \n",
       "\n",
       "[5 rows x 24 columns]"
      ]
     },
     "execution_count": 207,
     "metadata": {},
     "output_type": "execute_result"
    }
   ],
   "source": [
    "# Configure a Monte Carlo simulation to forecast five years cumulative returns with 40% Wal-Mart stock\n",
    "MC_wal_mart = MCSimulation(\n",
    "    portfolio_data = winners_df_ticker,\n",
    "    weights = [.20,.20,.20,.40],\n",
    "    num_simulation = 1000,\n",
    "    num_trading_days = 252*5)\n",
    "\n",
    "# Print the simulation input data\n",
    "MC_wal_mart.portfolio_data.head()"
   ]
  },
  {
   "cell_type": "code",
   "execution_count": 208,
   "metadata": {},
   "outputs": [
    {
     "data": {
      "text/html": [
       "<div>\n",
       "<style scoped>\n",
       "    .dataframe tbody tr th:only-of-type {\n",
       "        vertical-align: middle;\n",
       "    }\n",
       "\n",
       "    .dataframe tbody tr th {\n",
       "        vertical-align: top;\n",
       "    }\n",
       "\n",
       "    .dataframe thead th {\n",
       "        text-align: right;\n",
       "    }\n",
       "</style>\n",
       "<table border=\"1\" class=\"dataframe\">\n",
       "  <thead>\n",
       "    <tr style=\"text-align: right;\">\n",
       "      <th></th>\n",
       "      <th>BRK.B</th>\n",
       "      <th>JNJ</th>\n",
       "      <th>PG</th>\n",
       "      <th>WMT</th>\n",
       "    </tr>\n",
       "  </thead>\n",
       "  <tbody>\n",
       "    <tr>\n",
       "      <th>2020-07-30</th>\n",
       "      <td>194.30</td>\n",
       "      <td>146.91</td>\n",
       "      <td>131.44</td>\n",
       "      <td>130.11</td>\n",
       "    </tr>\n",
       "    <tr>\n",
       "      <th>2020-07-31</th>\n",
       "      <td>195.82</td>\n",
       "      <td>145.83</td>\n",
       "      <td>131.06</td>\n",
       "      <td>129.43</td>\n",
       "    </tr>\n",
       "    <tr>\n",
       "      <th>2020-08-03</th>\n",
       "      <td>199.14</td>\n",
       "      <td>147.35</td>\n",
       "      <td>131.33</td>\n",
       "      <td>129.30</td>\n",
       "    </tr>\n",
       "    <tr>\n",
       "      <th>2020-08-04</th>\n",
       "      <td>200.31</td>\n",
       "      <td>147.21</td>\n",
       "      <td>133.80</td>\n",
       "      <td>131.62</td>\n",
       "    </tr>\n",
       "    <tr>\n",
       "      <th>2020-08-05</th>\n",
       "      <td>203.62</td>\n",
       "      <td>148.39</td>\n",
       "      <td>133.45</td>\n",
       "      <td>129.80</td>\n",
       "    </tr>\n",
       "  </tbody>\n",
       "</table>\n",
       "</div>"
      ],
      "text/plain": [
       "             BRK.B     JNJ      PG     WMT\n",
       "2020-07-30  194.30  146.91  131.44  130.11\n",
       "2020-07-31  195.82  145.83  131.06  129.43\n",
       "2020-08-03  199.14  147.35  131.33  129.30\n",
       "2020-08-04  200.31  147.21  133.80  131.62\n",
       "2020-08-05  203.62  148.39  133.45  129.80"
      ]
     },
     "execution_count": 208,
     "metadata": {},
     "output_type": "execute_result"
    }
   ],
   "source": [
    "wal_closing_prices = pd.DataFrame()\n",
    "\n",
    "# Fetch the closing prices for all the tickers\n",
    "for ticker in tickers:\n",
    "    wal_closing_prices[ticker] = winners_df_ticker[ticker][\"close\"]\n",
    "\n",
    "# Drop the time component of the date\n",
    "wal_closing_prices.index = wal_closing_prices.index.date\n",
    "\n",
    "# Display sample data\n",
    "wal_closing_prices.head()"
   ]
  },
  {
   "cell_type": "code",
   "execution_count": 209,
   "metadata": {},
   "outputs": [
    {
     "data": {
      "text/html": [
       "<div>\n",
       "<style scoped>\n",
       "    .dataframe tbody tr th:only-of-type {\n",
       "        vertical-align: middle;\n",
       "    }\n",
       "\n",
       "    .dataframe tbody tr th {\n",
       "        vertical-align: top;\n",
       "    }\n",
       "\n",
       "    .dataframe thead th {\n",
       "        text-align: right;\n",
       "    }\n",
       "</style>\n",
       "<table border=\"1\" class=\"dataframe\">\n",
       "  <thead>\n",
       "    <tr style=\"text-align: right;\">\n",
       "      <th></th>\n",
       "      <th>BRK.B</th>\n",
       "      <th>JNJ</th>\n",
       "      <th>PG</th>\n",
       "      <th>WMT</th>\n",
       "    </tr>\n",
       "  </thead>\n",
       "  <tbody>\n",
       "    <tr>\n",
       "      <th>2020-07-31</th>\n",
       "      <td>0.007823</td>\n",
       "      <td>-0.007351</td>\n",
       "      <td>-0.002891</td>\n",
       "      <td>-0.005226</td>\n",
       "    </tr>\n",
       "    <tr>\n",
       "      <th>2020-08-03</th>\n",
       "      <td>0.016954</td>\n",
       "      <td>0.010423</td>\n",
       "      <td>0.002060</td>\n",
       "      <td>-0.001004</td>\n",
       "    </tr>\n",
       "    <tr>\n",
       "      <th>2020-08-04</th>\n",
       "      <td>0.005875</td>\n",
       "      <td>-0.000950</td>\n",
       "      <td>0.018808</td>\n",
       "      <td>0.017943</td>\n",
       "    </tr>\n",
       "    <tr>\n",
       "      <th>2020-08-05</th>\n",
       "      <td>0.016524</td>\n",
       "      <td>0.008016</td>\n",
       "      <td>-0.002616</td>\n",
       "      <td>-0.013828</td>\n",
       "    </tr>\n",
       "    <tr>\n",
       "      <th>2020-08-06</th>\n",
       "      <td>0.007219</td>\n",
       "      <td>-0.005661</td>\n",
       "      <td>-0.005545</td>\n",
       "      <td>-0.003467</td>\n",
       "    </tr>\n",
       "  </tbody>\n",
       "</table>\n",
       "</div>"
      ],
      "text/plain": [
       "               BRK.B       JNJ        PG       WMT\n",
       "2020-07-31  0.007823 -0.007351 -0.002891 -0.005226\n",
       "2020-08-03  0.016954  0.010423  0.002060 -0.001004\n",
       "2020-08-04  0.005875 -0.000950  0.018808  0.017943\n",
       "2020-08-05  0.016524  0.008016 -0.002616 -0.013828\n",
       "2020-08-06  0.007219 -0.005661 -0.005545 -0.003467"
      ]
     },
     "execution_count": 209,
     "metadata": {},
     "output_type": "execute_result"
    }
   ],
   "source": [
    "wal_daily_returns  = wal_closing_prices.pct_change().dropna()\n",
    "wal_daily_returns.head()"
   ]
  },
  {
   "cell_type": "code",
   "execution_count": 238,
   "metadata": {},
   "outputs": [
    {
     "data": {
      "text/plain": [
       "<AxesSubplot:ylabel='Frequency'>"
      ]
     },
     "execution_count": 238,
     "metadata": {},
     "output_type": "execute_result"
    },
    {
     "data": {
      "image/png": "[encoded data removed]",
      "text/plain": [
       "<Figure size 432x288 with 1 Axes>"
      ]
     },
     "metadata": {
      "needs_background": "light"
     },
     "output_type": "display_data"
    }
   ],
   "source": [
    "wal_daily_returns.plot.hist(alpha=0.5)"
   ]
  },
  {
   "cell_type": "code",
   "execution_count": 239,
   "metadata": {},
   "outputs": [
    {
     "data": {
      "text/plain": [
       "<AxesSubplot:ylabel='Density'>"
      ]
     },
     "execution_count": 239,
     "metadata": {},
     "output_type": "execute_result"
    },
    {
     "data": {
      "image/png": "[encoded data removed]",
      "text/plain": [
       "<Figure size 432x288 with 1 Axes>"
      ]
     },
     "metadata": {
      "needs_background": "light"
     },
     "output_type": "display_data"
    }
   ],
   "source": [
    "wal_daily_returns.plot.density()"
   ]
  },
  {
   "cell_type": "code",
   "execution_count": 211,
   "metadata": {},
   "outputs": [
    {
     "data": {
      "text/plain": [
       "<AxesSubplot:title={'center':'1000 Simulations of Cumulative Portfolio Return Trajectories Over the Next 1260 Trading Days.'}>"
      ]
     },
     "execution_count": 211,
     "metadata": {},
     "output_type": "execute_result"
    },
    {
     "data": {
      "image/png": "[encoded data removed]",
      "text/plain": [
       "<Figure size 432x288 with 1 Axes>"
      ]
     },
     "metadata": {
      "needs_background": "light"
     },
     "output_type": "display_data"
    }
   ],
   "source": [
    "MC_wal_mart.plot_simulation()"
   ]
  },
  {
   "cell_type": "markdown",
   "metadata": {},
   "source": [
    "5 Years of simulation with Wal_Mart 40%"
   ]
  },
  {
   "cell_type": "code",
   "execution_count": 212,
   "metadata": {},
   "outputs": [
    {
     "data": {
      "image/png": "[encoded data removed]",
      "text/plain": [
       "<Figure size 432x288 with 1 Axes>"
      ]
     },
     "metadata": {
      "needs_background": "light"
     },
     "output_type": "display_data"
    }
   ],
   "source": [
    "dist_plot = MC_wal_mart.plot_distribution() "
   ]
  },
  {
   "cell_type": "code",
   "execution_count": 213,
   "metadata": {},
   "outputs": [
    {
     "data": {
      "text/plain": [
       "count           1000.000000\n",
       "mean               2.361477\n",
       "std                0.546960\n",
       "min                1.088866\n",
       "25%                1.972689\n",
       "50%                2.296572\n",
       "75%                2.697815\n",
       "max                4.766053\n",
       "95% CI Lower       1.497585\n",
       "95% CI Upper       3.626371\n",
       "Name: 1260, dtype: float64"
      ]
     },
     "execution_count": 213,
     "metadata": {},
     "output_type": "execute_result"
    }
   ],
   "source": [
    "wal_mart_tbl = MC_wal_mart.summarize_cumulative_return()\n",
    "wal_mart_tbl"
   ]
  },
  {
   "cell_type": "code",
   "execution_count": 214,
   "metadata": {},
   "outputs": [
    {
     "name": "stdout",
     "output_type": "stream",
     "text": [
      "There is a 95% chance that an initial investment in Wal-Mart of $10,000 in the portfolio over the next 5 years will end within in the range of $14975.85 and $36263.71.\n"
     ]
    }
   ],
   "source": [
    "# Use the lower and upper `95%` confidence intervals to calculate the range of the possible outcomes of our $10,000 investments in stocks\n",
    "wal_mart_ci_lower = round(wal_mart_tbl[8]*10000,2)\n",
    "wal_mart_ci_upper = round(wal_mart_tbl[9]*10000,2)\n",
    "\n",
    "# Print results\n",
    "print(f\"There is a 95% chance that an initial investment in Wal-Mart of $10,000 in the portfolio\"\n",
    "      f\" over the next 5 years will end within in the range of\"\n",
    "      f\" ${wal_mart_ci_lower} and ${wal_mart_ci_upper}.\")"
   ]
  },
  {
   "cell_type": "code",
   "execution_count": 216,
   "metadata": {},
   "outputs": [
    {
     "data": {
      "text/html": [
       "<div>\n",
       "<style scoped>\n",
       "    .dataframe tbody tr th:only-of-type {\n",
       "        vertical-align: middle;\n",
       "    }\n",
       "\n",
       "    .dataframe tbody tr th {\n",
       "        vertical-align: top;\n",
       "    }\n",
       "\n",
       "    .dataframe thead tr th {\n",
       "        text-align: left;\n",
       "    }\n",
       "\n",
       "    .dataframe thead tr:last-of-type th {\n",
       "        text-align: right;\n",
       "    }\n",
       "</style>\n",
       "<table border=\"1\" class=\"dataframe\">\n",
       "  <thead>\n",
       "    <tr>\n",
       "      <th></th>\n",
       "      <th colspan=\"6\" halign=\"left\">BRK.B</th>\n",
       "      <th colspan=\"4\" halign=\"left\">JNJ</th>\n",
       "      <th>...</th>\n",
       "      <th colspan=\"4\" halign=\"left\">PG</th>\n",
       "      <th colspan=\"6\" halign=\"left\">WMT</th>\n",
       "    </tr>\n",
       "    <tr>\n",
       "      <th></th>\n",
       "      <th>open</th>\n",
       "      <th>high</th>\n",
       "      <th>low</th>\n",
       "      <th>close</th>\n",
       "      <th>volume</th>\n",
       "      <th>daily_return</th>\n",
       "      <th>open</th>\n",
       "      <th>high</th>\n",
       "      <th>low</th>\n",
       "      <th>close</th>\n",
       "      <th>...</th>\n",
       "      <th>low</th>\n",
       "      <th>close</th>\n",
       "      <th>volume</th>\n",
       "      <th>daily_return</th>\n",
       "      <th>open</th>\n",
       "      <th>high</th>\n",
       "      <th>low</th>\n",
       "      <th>close</th>\n",
       "      <th>volume</th>\n",
       "      <th>daily_return</th>\n",
       "    </tr>\n",
       "    <tr>\n",
       "      <th>time</th>\n",
       "      <th></th>\n",
       "      <th></th>\n",
       "      <th></th>\n",
       "      <th></th>\n",
       "      <th></th>\n",
       "      <th></th>\n",
       "      <th></th>\n",
       "      <th></th>\n",
       "      <th></th>\n",
       "      <th></th>\n",
       "      <th></th>\n",
       "      <th></th>\n",
       "      <th></th>\n",
       "      <th></th>\n",
       "      <th></th>\n",
       "      <th></th>\n",
       "      <th></th>\n",
       "      <th></th>\n",
       "      <th></th>\n",
       "      <th></th>\n",
       "      <th></th>\n",
       "    </tr>\n",
       "  </thead>\n",
       "  <tbody>\n",
       "    <tr>\n",
       "      <th>2020-07-30 00:00:00-04:00</th>\n",
       "      <td>193.43</td>\n",
       "      <td>194.57</td>\n",
       "      <td>192.25</td>\n",
       "      <td>194.30</td>\n",
       "      <td>7833392</td>\n",
       "      <td>NaN</td>\n",
       "      <td>147.44</td>\n",
       "      <td>147.50</td>\n",
       "      <td>146.1400</td>\n",
       "      <td>146.91</td>\n",
       "      <td>...</td>\n",
       "      <td>129.65</td>\n",
       "      <td>131.44</td>\n",
       "      <td>19483626</td>\n",
       "      <td>NaN</td>\n",
       "      <td>129.42</td>\n",
       "      <td>130.420</td>\n",
       "      <td>128.7200</td>\n",
       "      <td>130.11</td>\n",
       "      <td>8392139.0</td>\n",
       "      <td>NaN</td>\n",
       "    </tr>\n",
       "    <tr>\n",
       "      <th>2020-07-31 00:00:00-04:00</th>\n",
       "      <td>195.06</td>\n",
       "      <td>196.00</td>\n",
       "      <td>193.33</td>\n",
       "      <td>195.82</td>\n",
       "      <td>9647813</td>\n",
       "      <td>0.007823</td>\n",
       "      <td>146.66</td>\n",
       "      <td>147.45</td>\n",
       "      <td>143.9600</td>\n",
       "      <td>145.83</td>\n",
       "      <td>...</td>\n",
       "      <td>129.27</td>\n",
       "      <td>131.06</td>\n",
       "      <td>13357282</td>\n",
       "      <td>-0.002891</td>\n",
       "      <td>129.65</td>\n",
       "      <td>130.090</td>\n",
       "      <td>127.6200</td>\n",
       "      <td>129.43</td>\n",
       "      <td>11348242.0</td>\n",
       "      <td>-0.005226</td>\n",
       "    </tr>\n",
       "    <tr>\n",
       "      <th>2020-08-03 00:00:00-04:00</th>\n",
       "      <td>197.28</td>\n",
       "      <td>200.68</td>\n",
       "      <td>196.00</td>\n",
       "      <td>199.14</td>\n",
       "      <td>10906183</td>\n",
       "      <td>0.016954</td>\n",
       "      <td>146.39</td>\n",
       "      <td>147.79</td>\n",
       "      <td>146.1500</td>\n",
       "      <td>147.35</td>\n",
       "      <td>...</td>\n",
       "      <td>130.47</td>\n",
       "      <td>131.33</td>\n",
       "      <td>10165541</td>\n",
       "      <td>0.002060</td>\n",
       "      <td>129.91</td>\n",
       "      <td>130.115</td>\n",
       "      <td>128.2713</td>\n",
       "      <td>129.30</td>\n",
       "      <td>8938403.0</td>\n",
       "      <td>-0.001004</td>\n",
       "    </tr>\n",
       "    <tr>\n",
       "      <th>2020-08-04 00:00:00-04:00</th>\n",
       "      <td>198.97</td>\n",
       "      <td>200.31</td>\n",
       "      <td>198.11</td>\n",
       "      <td>200.31</td>\n",
       "      <td>6409839</td>\n",
       "      <td>0.005875</td>\n",
       "      <td>146.99</td>\n",
       "      <td>147.22</td>\n",
       "      <td>145.8247</td>\n",
       "      <td>147.21</td>\n",
       "      <td>...</td>\n",
       "      <td>130.70</td>\n",
       "      <td>133.80</td>\n",
       "      <td>13928394</td>\n",
       "      <td>0.018808</td>\n",
       "      <td>129.65</td>\n",
       "      <td>131.710</td>\n",
       "      <td>128.9400</td>\n",
       "      <td>131.62</td>\n",
       "      <td>11032656.0</td>\n",
       "      <td>0.017943</td>\n",
       "    </tr>\n",
       "    <tr>\n",
       "      <th>2020-08-05 00:00:00-04:00</th>\n",
       "      <td>201.44</td>\n",
       "      <td>204.69</td>\n",
       "      <td>201.00</td>\n",
       "      <td>203.62</td>\n",
       "      <td>9203352</td>\n",
       "      <td>0.016524</td>\n",
       "      <td>149.10</td>\n",
       "      <td>149.31</td>\n",
       "      <td>147.8000</td>\n",
       "      <td>148.39</td>\n",
       "      <td>...</td>\n",
       "      <td>133.12</td>\n",
       "      <td>133.45</td>\n",
       "      <td>9733012</td>\n",
       "      <td>-0.002616</td>\n",
       "      <td>130.45</td>\n",
       "      <td>130.750</td>\n",
       "      <td>128.8300</td>\n",
       "      <td>129.80</td>\n",
       "      <td>15762112.0</td>\n",
       "      <td>-0.013828</td>\n",
       "    </tr>\n",
       "  </tbody>\n",
       "</table>\n",
       "<p>5 rows × 24 columns</p>\n",
       "</div>"
      ],
      "text/plain": [
       "                            BRK.B                                    \\\n",
       "                             open    high     low   close    volume   \n",
       "time                                                                  \n",
       "2020-07-30 00:00:00-04:00  193.43  194.57  192.25  194.30   7833392   \n",
       "2020-07-31 00:00:00-04:00  195.06  196.00  193.33  195.82   9647813   \n",
       "2020-08-03 00:00:00-04:00  197.28  200.68  196.00  199.14  10906183   \n",
       "2020-08-04 00:00:00-04:00  198.97  200.31  198.11  200.31   6409839   \n",
       "2020-08-05 00:00:00-04:00  201.44  204.69  201.00  203.62   9203352   \n",
       "\n",
       "                                           JNJ                            ...  \\\n",
       "                          daily_return    open    high       low   close  ...   \n",
       "time                                                                      ...   \n",
       "2020-07-30 00:00:00-04:00          NaN  147.44  147.50  146.1400  146.91  ...   \n",
       "2020-07-31 00:00:00-04:00     0.007823  146.66  147.45  143.9600  145.83  ...   \n",
       "2020-08-03 00:00:00-04:00     0.016954  146.39  147.79  146.1500  147.35  ...   \n",
       "2020-08-04 00:00:00-04:00     0.005875  146.99  147.22  145.8247  147.21  ...   \n",
       "2020-08-05 00:00:00-04:00     0.016524  149.10  149.31  147.8000  148.39  ...   \n",
       "\n",
       "                               PG                                    WMT  \\\n",
       "                              low   close    volume daily_return    open   \n",
       "time                                                                       \n",
       "2020-07-30 00:00:00-04:00  129.65  131.44  19483626          NaN  129.42   \n",
       "2020-07-31 00:00:00-04:00  129.27  131.06  13357282    -0.002891  129.65   \n",
       "2020-08-03 00:00:00-04:00  130.47  131.33  10165541     0.002060  129.91   \n",
       "2020-08-04 00:00:00-04:00  130.70  133.80  13928394     0.018808  129.65   \n",
       "2020-08-05 00:00:00-04:00  133.12  133.45   9733012    -0.002616  130.45   \n",
       "\n",
       "                                                                               \n",
       "                              high       low   close      volume daily_return  \n",
       "time                                                                           \n",
       "2020-07-30 00:00:00-04:00  130.420  128.7200  130.11   8392139.0          NaN  \n",
       "2020-07-31 00:00:00-04:00  130.090  127.6200  129.43  11348242.0    -0.005226  \n",
       "2020-08-03 00:00:00-04:00  130.115  128.2713  129.30   8938403.0    -0.001004  \n",
       "2020-08-04 00:00:00-04:00  131.710  128.9400  131.62  11032656.0     0.017943  \n",
       "2020-08-05 00:00:00-04:00  130.750  128.8300  129.80  15762112.0    -0.013828  \n",
       "\n",
       "[5 rows x 24 columns]"
      ]
     },
     "execution_count": 216,
     "metadata": {},
     "output_type": "execute_result"
    }
   ],
   "source": [
    "# Configure a Monte Carlo simulation to forecast five years cumulative returns with 40% JNJ stock\n",
    "MC_JNJ = MCSimulation(\n",
    "    portfolio_data = winners_df_ticker,\n",
    "    weights = [.20,.40,.20,.20],\n",
    "    num_simulation = 1000,\n",
    "    num_trading_days = 252*5)\n",
    "\n",
    "# Print the simulation input data\n",
    "MC_JNJ.portfolio_data.head()"
   ]
  },
  {
   "cell_type": "code",
   "execution_count": 217,
   "metadata": {},
   "outputs": [
    {
     "data": {
      "text/html": [
       "<div>\n",
       "<style scoped>\n",
       "    .dataframe tbody tr th:only-of-type {\n",
       "        vertical-align: middle;\n",
       "    }\n",
       "\n",
       "    .dataframe tbody tr th {\n",
       "        vertical-align: top;\n",
       "    }\n",
       "\n",
       "    .dataframe thead th {\n",
       "        text-align: right;\n",
       "    }\n",
       "</style>\n",
       "<table border=\"1\" class=\"dataframe\">\n",
       "  <thead>\n",
       "    <tr style=\"text-align: right;\">\n",
       "      <th></th>\n",
       "      <th>BRK.B</th>\n",
       "      <th>JNJ</th>\n",
       "      <th>PG</th>\n",
       "      <th>WMT</th>\n",
       "    </tr>\n",
       "  </thead>\n",
       "  <tbody>\n",
       "    <tr>\n",
       "      <th>2020-07-30</th>\n",
       "      <td>194.30</td>\n",
       "      <td>146.91</td>\n",
       "      <td>131.44</td>\n",
       "      <td>130.11</td>\n",
       "    </tr>\n",
       "    <tr>\n",
       "      <th>2020-07-31</th>\n",
       "      <td>195.82</td>\n",
       "      <td>145.83</td>\n",
       "      <td>131.06</td>\n",
       "      <td>129.43</td>\n",
       "    </tr>\n",
       "    <tr>\n",
       "      <th>2020-08-03</th>\n",
       "      <td>199.14</td>\n",
       "      <td>147.35</td>\n",
       "      <td>131.33</td>\n",
       "      <td>129.30</td>\n",
       "    </tr>\n",
       "    <tr>\n",
       "      <th>2020-08-04</th>\n",
       "      <td>200.31</td>\n",
       "      <td>147.21</td>\n",
       "      <td>133.80</td>\n",
       "      <td>131.62</td>\n",
       "    </tr>\n",
       "    <tr>\n",
       "      <th>2020-08-05</th>\n",
       "      <td>203.62</td>\n",
       "      <td>148.39</td>\n",
       "      <td>133.45</td>\n",
       "      <td>129.80</td>\n",
       "    </tr>\n",
       "  </tbody>\n",
       "</table>\n",
       "</div>"
      ],
      "text/plain": [
       "             BRK.B     JNJ      PG     WMT\n",
       "2020-07-30  194.30  146.91  131.44  130.11\n",
       "2020-07-31  195.82  145.83  131.06  129.43\n",
       "2020-08-03  199.14  147.35  131.33  129.30\n",
       "2020-08-04  200.31  147.21  133.80  131.62\n",
       "2020-08-05  203.62  148.39  133.45  129.80"
      ]
     },
     "execution_count": 217,
     "metadata": {},
     "output_type": "execute_result"
    }
   ],
   "source": [
    "jnj_closing_prices = pd.DataFrame()\n",
    "\n",
    "# Fetch the closing prices for all the tickers\n",
    "for ticker in tickers:\n",
    "    jnj_closing_prices[ticker] = winners_df_ticker[ticker][\"close\"]\n",
    "\n",
    "# Drop the time component of the date\n",
    "jnj_closing_prices.index = jnj_closing_prices.index.date\n",
    "\n",
    "# Display sample data\n",
    "jnj_closing_prices.head()"
   ]
  },
  {
   "cell_type": "code",
   "execution_count": 218,
   "metadata": {},
   "outputs": [
    {
     "data": {
      "text/html": [
       "<div>\n",
       "<style scoped>\n",
       "    .dataframe tbody tr th:only-of-type {\n",
       "        vertical-align: middle;\n",
       "    }\n",
       "\n",
       "    .dataframe tbody tr th {\n",
       "        vertical-align: top;\n",
       "    }\n",
       "\n",
       "    .dataframe thead th {\n",
       "        text-align: right;\n",
       "    }\n",
       "</style>\n",
       "<table border=\"1\" class=\"dataframe\">\n",
       "  <thead>\n",
       "    <tr style=\"text-align: right;\">\n",
       "      <th></th>\n",
       "      <th>BRK.B</th>\n",
       "      <th>JNJ</th>\n",
       "      <th>PG</th>\n",
       "      <th>WMT</th>\n",
       "    </tr>\n",
       "  </thead>\n",
       "  <tbody>\n",
       "    <tr>\n",
       "      <th>2020-07-31</th>\n",
       "      <td>0.007823</td>\n",
       "      <td>-0.007351</td>\n",
       "      <td>-0.002891</td>\n",
       "      <td>-0.005226</td>\n",
       "    </tr>\n",
       "    <tr>\n",
       "      <th>2020-08-03</th>\n",
       "      <td>0.016954</td>\n",
       "      <td>0.010423</td>\n",
       "      <td>0.002060</td>\n",
       "      <td>-0.001004</td>\n",
       "    </tr>\n",
       "    <tr>\n",
       "      <th>2020-08-04</th>\n",
       "      <td>0.005875</td>\n",
       "      <td>-0.000950</td>\n",
       "      <td>0.018808</td>\n",
       "      <td>0.017943</td>\n",
       "    </tr>\n",
       "    <tr>\n",
       "      <th>2020-08-05</th>\n",
       "      <td>0.016524</td>\n",
       "      <td>0.008016</td>\n",
       "      <td>-0.002616</td>\n",
       "      <td>-0.013828</td>\n",
       "    </tr>\n",
       "    <tr>\n",
       "      <th>2020-08-06</th>\n",
       "      <td>0.007219</td>\n",
       "      <td>-0.005661</td>\n",
       "      <td>-0.005545</td>\n",
       "      <td>-0.003467</td>\n",
       "    </tr>\n",
       "  </tbody>\n",
       "</table>\n",
       "</div>"
      ],
      "text/plain": [
       "               BRK.B       JNJ        PG       WMT\n",
       "2020-07-31  0.007823 -0.007351 -0.002891 -0.005226\n",
       "2020-08-03  0.016954  0.010423  0.002060 -0.001004\n",
       "2020-08-04  0.005875 -0.000950  0.018808  0.017943\n",
       "2020-08-05  0.016524  0.008016 -0.002616 -0.013828\n",
       "2020-08-06  0.007219 -0.005661 -0.005545 -0.003467"
      ]
     },
     "execution_count": 218,
     "metadata": {},
     "output_type": "execute_result"
    }
   ],
   "source": [
    "jnj_daily_returns  = jnj_closing_prices.pct_change().dropna()\n",
    "jnj_daily_returns.head()"
   ]
  },
  {
   "cell_type": "code",
   "execution_count": 236,
   "metadata": {},
   "outputs": [
    {
     "data": {
      "text/plain": [
       "<AxesSubplot:ylabel='Frequency'>"
      ]
     },
     "execution_count": 236,
     "metadata": {},
     "output_type": "execute_result"
    },
    {
     "data": {
      "image/png": "[encoded data removed]",
      "text/plain": [
       "<Figure size 432x288 with 1 Axes>"
      ]
     },
     "metadata": {
      "needs_background": "light"
     },
     "output_type": "display_data"
    }
   ],
   "source": [
    "jnj_daily_returns.plot.hist(alpha=0.5)"
   ]
  },
  {
   "cell_type": "code",
   "execution_count": 237,
   "metadata": {},
   "outputs": [
    {
     "data": {
      "text/plain": [
       "<AxesSubplot:ylabel='Density'>"
      ]
     },
     "execution_count": 237,
     "metadata": {},
     "output_type": "execute_result"
    },
    {
     "data": {
      "image/png": "[encoded data removed]",
      "text/plain": [
       "<Figure size 432x288 with 1 Axes>"
      ]
     },
     "metadata": {
      "needs_background": "light"
     },
     "output_type": "display_data"
    }
   ],
   "source": [
    "jnj_daily_returns.plot.density()"
   ]
  },
  {
   "cell_type": "code",
   "execution_count": 243,
   "metadata": {},
   "outputs": [
    {
     "data": {
      "text/plain": [
       "<AxesSubplot:title={'center':'1000 Simulations of Cumulative Portfolio Return Trajectories Over the Next 1260 Trading Days.'}>"
      ]
     },
     "execution_count": 243,
     "metadata": {},
     "output_type": "execute_result"
    },
    {
     "data": {
      "image/png": "[encoded data removed]",
      "text/plain": [
       "<Figure size 432x288 with 1 Axes>"
      ]
     },
     "metadata": {
      "needs_background": "light"
     },
     "output_type": "display_data"
    }
   ],
   "source": [
    "MC_JNJ.plot_simulation()"
   ]
  },
  {
   "cell_type": "code",
   "execution_count": 220,
   "metadata": {},
   "outputs": [
    {
     "data": {
      "image/png": "[encoded data removed]",
      "text/plain": [
       "<Figure size 432x288 with 1 Axes>"
      ]
     },
     "metadata": {
      "needs_background": "light"
     },
     "output_type": "display_data"
    }
   ],
   "source": [
    "jnj_plot = MC_JNJ.plot_distribution() "
   ]
  },
  {
   "cell_type": "code",
   "execution_count": 221,
   "metadata": {},
   "outputs": [
    {
     "data": {
      "text/plain": [
       "count           1000.000000\n",
       "mean               2.542343\n",
       "std                0.508403\n",
       "min                1.337639\n",
       "25%                2.169524\n",
       "50%                2.484197\n",
       "75%                2.869551\n",
       "max                4.576635\n",
       "95% CI Lower       1.719609\n",
       "95% CI Upper       3.702336\n",
       "Name: 1260, dtype: float64"
      ]
     },
     "execution_count": 221,
     "metadata": {},
     "output_type": "execute_result"
    }
   ],
   "source": [
    "jnj_tbl = MC_JNJ.summarize_cumulative_return()\n",
    "jnj_tbl"
   ]
  },
  {
   "cell_type": "code",
   "execution_count": 222,
   "metadata": {},
   "outputs": [
    {
     "name": "stdout",
     "output_type": "stream",
     "text": [
      "There is a 95% chance that an initial investment in JNJ of $10,000 in the portfolio over the next 5 years will end within in the range of $17196.09 and $37023.36.\n"
     ]
    }
   ],
   "source": [
    "# Use the lower and upper `95%` confidence intervals to calculate the range of the possible outcomes of our $10,000 investments in stocks\n",
    "jnj_ci_lower = round(jnj_tbl[8]*10000,2)\n",
    "jnj_ci_upper = round(jnj_tbl[9]*10000,2)\n",
    "\n",
    "# Print results\n",
    "print(f\"There is a 95% chance that an initial investment in JNJ of $10,000 in the portfolio\"\n",
    "      f\" over the next 5 years will end within in the range of\"\n",
    "      f\" ${jnj_ci_lower} and ${jnj_ci_upper}.\")"
   ]
  },
  {
   "cell_type": "code",
   "execution_count": 223,
   "metadata": {},
   "outputs": [
    {
     "data": {
      "text/html": [
       "<div>\n",
       "<style scoped>\n",
       "    .dataframe tbody tr th:only-of-type {\n",
       "        vertical-align: middle;\n",
       "    }\n",
       "\n",
       "    .dataframe tbody tr th {\n",
       "        vertical-align: top;\n",
       "    }\n",
       "\n",
       "    .dataframe thead tr th {\n",
       "        text-align: left;\n",
       "    }\n",
       "\n",
       "    .dataframe thead tr:last-of-type th {\n",
       "        text-align: right;\n",
       "    }\n",
       "</style>\n",
       "<table border=\"1\" class=\"dataframe\">\n",
       "  <thead>\n",
       "    <tr>\n",
       "      <th></th>\n",
       "      <th colspan=\"6\" halign=\"left\">BRK.B</th>\n",
       "      <th colspan=\"4\" halign=\"left\">JNJ</th>\n",
       "      <th>...</th>\n",
       "      <th colspan=\"4\" halign=\"left\">PG</th>\n",
       "      <th colspan=\"6\" halign=\"left\">WMT</th>\n",
       "    </tr>\n",
       "    <tr>\n",
       "      <th></th>\n",
       "      <th>open</th>\n",
       "      <th>high</th>\n",
       "      <th>low</th>\n",
       "      <th>close</th>\n",
       "      <th>volume</th>\n",
       "      <th>daily_return</th>\n",
       "      <th>open</th>\n",
       "      <th>high</th>\n",
       "      <th>low</th>\n",
       "      <th>close</th>\n",
       "      <th>...</th>\n",
       "      <th>low</th>\n",
       "      <th>close</th>\n",
       "      <th>volume</th>\n",
       "      <th>daily_return</th>\n",
       "      <th>open</th>\n",
       "      <th>high</th>\n",
       "      <th>low</th>\n",
       "      <th>close</th>\n",
       "      <th>volume</th>\n",
       "      <th>daily_return</th>\n",
       "    </tr>\n",
       "    <tr>\n",
       "      <th>time</th>\n",
       "      <th></th>\n",
       "      <th></th>\n",
       "      <th></th>\n",
       "      <th></th>\n",
       "      <th></th>\n",
       "      <th></th>\n",
       "      <th></th>\n",
       "      <th></th>\n",
       "      <th></th>\n",
       "      <th></th>\n",
       "      <th></th>\n",
       "      <th></th>\n",
       "      <th></th>\n",
       "      <th></th>\n",
       "      <th></th>\n",
       "      <th></th>\n",
       "      <th></th>\n",
       "      <th></th>\n",
       "      <th></th>\n",
       "      <th></th>\n",
       "      <th></th>\n",
       "    </tr>\n",
       "  </thead>\n",
       "  <tbody>\n",
       "    <tr>\n",
       "      <th>2020-07-30 00:00:00-04:00</th>\n",
       "      <td>193.43</td>\n",
       "      <td>194.57</td>\n",
       "      <td>192.25</td>\n",
       "      <td>194.30</td>\n",
       "      <td>7833392</td>\n",
       "      <td>NaN</td>\n",
       "      <td>147.44</td>\n",
       "      <td>147.50</td>\n",
       "      <td>146.1400</td>\n",
       "      <td>146.91</td>\n",
       "      <td>...</td>\n",
       "      <td>129.65</td>\n",
       "      <td>131.44</td>\n",
       "      <td>19483626</td>\n",
       "      <td>NaN</td>\n",
       "      <td>129.42</td>\n",
       "      <td>130.420</td>\n",
       "      <td>128.7200</td>\n",
       "      <td>130.11</td>\n",
       "      <td>8392139.0</td>\n",
       "      <td>NaN</td>\n",
       "    </tr>\n",
       "    <tr>\n",
       "      <th>2020-07-31 00:00:00-04:00</th>\n",
       "      <td>195.06</td>\n",
       "      <td>196.00</td>\n",
       "      <td>193.33</td>\n",
       "      <td>195.82</td>\n",
       "      <td>9647813</td>\n",
       "      <td>0.007823</td>\n",
       "      <td>146.66</td>\n",
       "      <td>147.45</td>\n",
       "      <td>143.9600</td>\n",
       "      <td>145.83</td>\n",
       "      <td>...</td>\n",
       "      <td>129.27</td>\n",
       "      <td>131.06</td>\n",
       "      <td>13357282</td>\n",
       "      <td>-0.002891</td>\n",
       "      <td>129.65</td>\n",
       "      <td>130.090</td>\n",
       "      <td>127.6200</td>\n",
       "      <td>129.43</td>\n",
       "      <td>11348242.0</td>\n",
       "      <td>-0.005226</td>\n",
       "    </tr>\n",
       "    <tr>\n",
       "      <th>2020-08-03 00:00:00-04:00</th>\n",
       "      <td>197.28</td>\n",
       "      <td>200.68</td>\n",
       "      <td>196.00</td>\n",
       "      <td>199.14</td>\n",
       "      <td>10906183</td>\n",
       "      <td>0.016954</td>\n",
       "      <td>146.39</td>\n",
       "      <td>147.79</td>\n",
       "      <td>146.1500</td>\n",
       "      <td>147.35</td>\n",
       "      <td>...</td>\n",
       "      <td>130.47</td>\n",
       "      <td>131.33</td>\n",
       "      <td>10165541</td>\n",
       "      <td>0.002060</td>\n",
       "      <td>129.91</td>\n",
       "      <td>130.115</td>\n",
       "      <td>128.2713</td>\n",
       "      <td>129.30</td>\n",
       "      <td>8938403.0</td>\n",
       "      <td>-0.001004</td>\n",
       "    </tr>\n",
       "    <tr>\n",
       "      <th>2020-08-04 00:00:00-04:00</th>\n",
       "      <td>198.97</td>\n",
       "      <td>200.31</td>\n",
       "      <td>198.11</td>\n",
       "      <td>200.31</td>\n",
       "      <td>6409839</td>\n",
       "      <td>0.005875</td>\n",
       "      <td>146.99</td>\n",
       "      <td>147.22</td>\n",
       "      <td>145.8247</td>\n",
       "      <td>147.21</td>\n",
       "      <td>...</td>\n",
       "      <td>130.70</td>\n",
       "      <td>133.80</td>\n",
       "      <td>13928394</td>\n",
       "      <td>0.018808</td>\n",
       "      <td>129.65</td>\n",
       "      <td>131.710</td>\n",
       "      <td>128.9400</td>\n",
       "      <td>131.62</td>\n",
       "      <td>11032656.0</td>\n",
       "      <td>0.017943</td>\n",
       "    </tr>\n",
       "    <tr>\n",
       "      <th>2020-08-05 00:00:00-04:00</th>\n",
       "      <td>201.44</td>\n",
       "      <td>204.69</td>\n",
       "      <td>201.00</td>\n",
       "      <td>203.62</td>\n",
       "      <td>9203352</td>\n",
       "      <td>0.016524</td>\n",
       "      <td>149.10</td>\n",
       "      <td>149.31</td>\n",
       "      <td>147.8000</td>\n",
       "      <td>148.39</td>\n",
       "      <td>...</td>\n",
       "      <td>133.12</td>\n",
       "      <td>133.45</td>\n",
       "      <td>9733012</td>\n",
       "      <td>-0.002616</td>\n",
       "      <td>130.45</td>\n",
       "      <td>130.750</td>\n",
       "      <td>128.8300</td>\n",
       "      <td>129.80</td>\n",
       "      <td>15762112.0</td>\n",
       "      <td>-0.013828</td>\n",
       "    </tr>\n",
       "  </tbody>\n",
       "</table>\n",
       "<p>5 rows × 24 columns</p>\n",
       "</div>"
      ],
      "text/plain": [
       "                            BRK.B                                    \\\n",
       "                             open    high     low   close    volume   \n",
       "time                                                                  \n",
       "2020-07-30 00:00:00-04:00  193.43  194.57  192.25  194.30   7833392   \n",
       "2020-07-31 00:00:00-04:00  195.06  196.00  193.33  195.82   9647813   \n",
       "2020-08-03 00:00:00-04:00  197.28  200.68  196.00  199.14  10906183   \n",
       "2020-08-04 00:00:00-04:00  198.97  200.31  198.11  200.31   6409839   \n",
       "2020-08-05 00:00:00-04:00  201.44  204.69  201.00  203.62   9203352   \n",
       "\n",
       "                                           JNJ                            ...  \\\n",
       "                          daily_return    open    high       low   close  ...   \n",
       "time                                                                      ...   \n",
       "2020-07-30 00:00:00-04:00          NaN  147.44  147.50  146.1400  146.91  ...   \n",
       "2020-07-31 00:00:00-04:00     0.007823  146.66  147.45  143.9600  145.83  ...   \n",
       "2020-08-03 00:00:00-04:00     0.016954  146.39  147.79  146.1500  147.35  ...   \n",
       "2020-08-04 00:00:00-04:00     0.005875  146.99  147.22  145.8247  147.21  ...   \n",
       "2020-08-05 00:00:00-04:00     0.016524  149.10  149.31  147.8000  148.39  ...   \n",
       "\n",
       "                               PG                                    WMT  \\\n",
       "                              low   close    volume daily_return    open   \n",
       "time                                                                       \n",
       "2020-07-30 00:00:00-04:00  129.65  131.44  19483626          NaN  129.42   \n",
       "2020-07-31 00:00:00-04:00  129.27  131.06  13357282    -0.002891  129.65   \n",
       "2020-08-03 00:00:00-04:00  130.47  131.33  10165541     0.002060  129.91   \n",
       "2020-08-04 00:00:00-04:00  130.70  133.80  13928394     0.018808  129.65   \n",
       "2020-08-05 00:00:00-04:00  133.12  133.45   9733012    -0.002616  130.45   \n",
       "\n",
       "                                                                               \n",
       "                              high       low   close      volume daily_return  \n",
       "time                                                                           \n",
       "2020-07-30 00:00:00-04:00  130.420  128.7200  130.11   8392139.0          NaN  \n",
       "2020-07-31 00:00:00-04:00  130.090  127.6200  129.43  11348242.0    -0.005226  \n",
       "2020-08-03 00:00:00-04:00  130.115  128.2713  129.30   8938403.0    -0.001004  \n",
       "2020-08-04 00:00:00-04:00  131.710  128.9400  131.62  11032656.0     0.017943  \n",
       "2020-08-05 00:00:00-04:00  130.750  128.8300  129.80  15762112.0    -0.013828  \n",
       "\n",
       "[5 rows x 24 columns]"
      ]
     },
     "execution_count": 223,
     "metadata": {},
     "output_type": "execute_result"
    }
   ],
   "source": [
    "# Configure a Monte Carlo simulation to forecast five years cumulative returns with 30% BRK.B stock\n",
    "MC_BRK = MCSimulation(\n",
    "    portfolio_data = winners_df_ticker,\n",
    "    weights = [.40,.20,.20,.20],\n",
    "    num_simulation = 1000,\n",
    "    num_trading_days = 252*5)\n",
    "\n",
    "# Print the simulation input data\n",
    "MC_BRK.portfolio_data.head()"
   ]
  },
  {
   "cell_type": "code",
   "execution_count": 224,
   "metadata": {},
   "outputs": [
    {
     "data": {
      "text/html": [
       "<div>\n",
       "<style scoped>\n",
       "    .dataframe tbody tr th:only-of-type {\n",
       "        vertical-align: middle;\n",
       "    }\n",
       "\n",
       "    .dataframe tbody tr th {\n",
       "        vertical-align: top;\n",
       "    }\n",
       "\n",
       "    .dataframe thead th {\n",
       "        text-align: right;\n",
       "    }\n",
       "</style>\n",
       "<table border=\"1\" class=\"dataframe\">\n",
       "  <thead>\n",
       "    <tr style=\"text-align: right;\">\n",
       "      <th></th>\n",
       "      <th>BRK.B</th>\n",
       "      <th>JNJ</th>\n",
       "      <th>PG</th>\n",
       "      <th>WMT</th>\n",
       "    </tr>\n",
       "  </thead>\n",
       "  <tbody>\n",
       "    <tr>\n",
       "      <th>2020-07-30</th>\n",
       "      <td>194.30</td>\n",
       "      <td>146.91</td>\n",
       "      <td>131.44</td>\n",
       "      <td>130.11</td>\n",
       "    </tr>\n",
       "    <tr>\n",
       "      <th>2020-07-31</th>\n",
       "      <td>195.82</td>\n",
       "      <td>145.83</td>\n",
       "      <td>131.06</td>\n",
       "      <td>129.43</td>\n",
       "    </tr>\n",
       "    <tr>\n",
       "      <th>2020-08-03</th>\n",
       "      <td>199.14</td>\n",
       "      <td>147.35</td>\n",
       "      <td>131.33</td>\n",
       "      <td>129.30</td>\n",
       "    </tr>\n",
       "    <tr>\n",
       "      <th>2020-08-04</th>\n",
       "      <td>200.31</td>\n",
       "      <td>147.21</td>\n",
       "      <td>133.80</td>\n",
       "      <td>131.62</td>\n",
       "    </tr>\n",
       "    <tr>\n",
       "      <th>2020-08-05</th>\n",
       "      <td>203.62</td>\n",
       "      <td>148.39</td>\n",
       "      <td>133.45</td>\n",
       "      <td>129.80</td>\n",
       "    </tr>\n",
       "  </tbody>\n",
       "</table>\n",
       "</div>"
      ],
      "text/plain": [
       "             BRK.B     JNJ      PG     WMT\n",
       "2020-07-30  194.30  146.91  131.44  130.11\n",
       "2020-07-31  195.82  145.83  131.06  129.43\n",
       "2020-08-03  199.14  147.35  131.33  129.30\n",
       "2020-08-04  200.31  147.21  133.80  131.62\n",
       "2020-08-05  203.62  148.39  133.45  129.80"
      ]
     },
     "execution_count": 224,
     "metadata": {},
     "output_type": "execute_result"
    }
   ],
   "source": [
    "brk_closing_prices = pd.DataFrame()\n",
    "\n",
    "# Fetch the closing prices for all the tickers\n",
    "for ticker in tickers:\n",
    "    brk_closing_prices[ticker] = winners_df_ticker[ticker][\"close\"]\n",
    "\n",
    "# Drop the time component of the date\n",
    "brk_closing_prices.index = brk_closing_prices.index.date\n",
    "\n",
    "# Display sample data\n",
    "brk_closing_prices.head()"
   ]
  },
  {
   "cell_type": "code",
   "execution_count": 225,
   "metadata": {},
   "outputs": [
    {
     "data": {
      "text/html": [
       "<div>\n",
       "<style scoped>\n",
       "    .dataframe tbody tr th:only-of-type {\n",
       "        vertical-align: middle;\n",
       "    }\n",
       "\n",
       "    .dataframe tbody tr th {\n",
       "        vertical-align: top;\n",
       "    }\n",
       "\n",
       "    .dataframe thead th {\n",
       "        text-align: right;\n",
       "    }\n",
       "</style>\n",
       "<table border=\"1\" class=\"dataframe\">\n",
       "  <thead>\n",
       "    <tr style=\"text-align: right;\">\n",
       "      <th></th>\n",
       "      <th>BRK.B</th>\n",
       "      <th>JNJ</th>\n",
       "      <th>PG</th>\n",
       "      <th>WMT</th>\n",
       "    </tr>\n",
       "  </thead>\n",
       "  <tbody>\n",
       "    <tr>\n",
       "      <th>2020-07-31</th>\n",
       "      <td>0.007823</td>\n",
       "      <td>-0.007351</td>\n",
       "      <td>-0.002891</td>\n",
       "      <td>-0.005226</td>\n",
       "    </tr>\n",
       "    <tr>\n",
       "      <th>2020-08-03</th>\n",
       "      <td>0.016954</td>\n",
       "      <td>0.010423</td>\n",
       "      <td>0.002060</td>\n",
       "      <td>-0.001004</td>\n",
       "    </tr>\n",
       "    <tr>\n",
       "      <th>2020-08-04</th>\n",
       "      <td>0.005875</td>\n",
       "      <td>-0.000950</td>\n",
       "      <td>0.018808</td>\n",
       "      <td>0.017943</td>\n",
       "    </tr>\n",
       "    <tr>\n",
       "      <th>2020-08-05</th>\n",
       "      <td>0.016524</td>\n",
       "      <td>0.008016</td>\n",
       "      <td>-0.002616</td>\n",
       "      <td>-0.013828</td>\n",
       "    </tr>\n",
       "    <tr>\n",
       "      <th>2020-08-06</th>\n",
       "      <td>0.007219</td>\n",
       "      <td>-0.005661</td>\n",
       "      <td>-0.005545</td>\n",
       "      <td>-0.003467</td>\n",
       "    </tr>\n",
       "  </tbody>\n",
       "</table>\n",
       "</div>"
      ],
      "text/plain": [
       "               BRK.B       JNJ        PG       WMT\n",
       "2020-07-31  0.007823 -0.007351 -0.002891 -0.005226\n",
       "2020-08-03  0.016954  0.010423  0.002060 -0.001004\n",
       "2020-08-04  0.005875 -0.000950  0.018808  0.017943\n",
       "2020-08-05  0.016524  0.008016 -0.002616 -0.013828\n",
       "2020-08-06  0.007219 -0.005661 -0.005545 -0.003467"
      ]
     },
     "execution_count": 225,
     "metadata": {},
     "output_type": "execute_result"
    }
   ],
   "source": [
    "brk_daily_returns  = brk_closing_prices.pct_change().dropna()\n",
    "brk_daily_returns.head()"
   ]
  },
  {
   "cell_type": "code",
   "execution_count": 244,
   "metadata": {},
   "outputs": [
    {
     "data": {
      "text/plain": [
       "<AxesSubplot:ylabel='Frequency'>"
      ]
     },
     "execution_count": 244,
     "metadata": {},
     "output_type": "execute_result"
    },
    {
     "data": {
      "image/png": "[encoded data removed]",
      "text/plain": [
       "<Figure size 432x288 with 1 Axes>"
      ]
     },
     "metadata": {
      "needs_background": "light"
     },
     "output_type": "display_data"
    }
   ],
   "source": [
    "brk_daily_returns.plot.hist(alpha=0.5)"
   ]
  },
  {
   "cell_type": "code",
   "execution_count": 245,
   "metadata": {},
   "outputs": [
    {
     "data": {
      "text/plain": [
       "<AxesSubplot:ylabel='Density'>"
      ]
     },
     "execution_count": 245,
     "metadata": {},
     "output_type": "execute_result"
    },
    {
     "data": {
      "image/png": "[encoded data removed]",
      "text/plain": [
       "<Figure size 432x288 with 1 Axes>"
      ]
     },
     "metadata": {
      "needs_background": "light"
     },
     "output_type": "display_data"
    }
   ],
   "source": [
    "brk_daily_returns.plot.density()"
   ]
  },
  {
   "cell_type": "code",
   "execution_count": 246,
   "metadata": {},
   "outputs": [
    {
     "data": {
      "text/plain": [
       "<AxesSubplot:title={'center':'1000 Simulations of Cumulative Portfolio Return Trajectories Over the Next 1260 Trading Days.'}>"
      ]
     },
     "execution_count": 246,
     "metadata": {},
     "output_type": "execute_result"
    },
    {
     "data": {
      "image/png": "[encoded data removed]",
      "text/plain": [
       "<Figure size 432x288 with 1 Axes>"
      ]
     },
     "metadata": {
      "needs_background": "light"
     },
     "output_type": "display_data"
    }
   ],
   "source": [
    "MC_BRK.plot_simulation()"
   ]
  },
  {
   "cell_type": "code",
   "execution_count": 247,
   "metadata": {},
   "outputs": [
    {
     "data": {
      "image/png": "[encoded data removed]",
      "text/plain": [
       "<Figure size 432x288 with 1 Axes>"
      ]
     },
     "metadata": {
      "needs_background": "light"
     },
     "output_type": "display_data"
    }
   ],
   "source": [
    "brk_plot = MC_BRK.plot_distribution() "
   ]
  },
  {
   "cell_type": "code",
   "execution_count": 248,
   "metadata": {},
   "outputs": [
    {
     "data": {
      "text/plain": [
       "count           1000.000000\n",
       "mean               3.102473\n",
       "std                0.662132\n",
       "min                1.541846\n",
       "25%                2.628239\n",
       "50%                3.027736\n",
       "75%                3.499753\n",
       "max                6.075552\n",
       "95% CI Lower       2.043822\n",
       "95% CI Upper       4.632250\n",
       "Name: 1260, dtype: float64"
      ]
     },
     "execution_count": 248,
     "metadata": {},
     "output_type": "execute_result"
    }
   ],
   "source": [
    "brk_tbl = MC_BRK.summarize_cumulative_return()\n",
    "brk_tbl"
   ]
  },
  {
   "cell_type": "code",
   "execution_count": 249,
   "metadata": {},
   "outputs": [],
   "source": [
    "# Use the lower and upper `95%` confidence intervals to calculate the range of the possible outcomes of our $10,000 investments in stocks\n",
    "brk_ci_lower = round(brk_tbl[8]*10000,2)\n",
    "brk_ci_upper = round(brk_tbl[9]*10000,2)"
   ]
  },
  {
   "cell_type": "code",
   "execution_count": 250,
   "metadata": {},
   "outputs": [
    {
     "name": "stdout",
     "output_type": "stream",
     "text": [
      "There is a 95% chance that an initial investment in BRK of $10,000 in the portfolio over the next 5 years will end within in the range of $20438.22 and $46322.5.\n"
     ]
    }
   ],
   "source": [
    "# Print results\n",
    "print(f\"There is a 95% chance that an initial investment in BRK of $10,000 in the portfolio\"\n",
    "      f\" over the next 5 years will end within in the range of\"\n",
    "      f\" ${brk_ci_lower} and ${brk_ci_upper}.\")"
   ]
  },
  {
   "cell_type": "code",
   "execution_count": 233,
   "metadata": {},
   "outputs": [
    {
     "data": {
      "text/html": [
       "<div>\n",
       "<style scoped>\n",
       "    .dataframe tbody tr th:only-of-type {\n",
       "        vertical-align: middle;\n",
       "    }\n",
       "\n",
       "    .dataframe tbody tr th {\n",
       "        vertical-align: top;\n",
       "    }\n",
       "\n",
       "    .dataframe thead tr th {\n",
       "        text-align: left;\n",
       "    }\n",
       "\n",
       "    .dataframe thead tr:last-of-type th {\n",
       "        text-align: right;\n",
       "    }\n",
       "</style>\n",
       "<table border=\"1\" class=\"dataframe\">\n",
       "  <thead>\n",
       "    <tr>\n",
       "      <th></th>\n",
       "      <th colspan=\"6\" halign=\"left\">BRK.B</th>\n",
       "      <th colspan=\"4\" halign=\"left\">JNJ</th>\n",
       "      <th>...</th>\n",
       "      <th colspan=\"4\" halign=\"left\">PG</th>\n",
       "      <th colspan=\"6\" halign=\"left\">WMT</th>\n",
       "    </tr>\n",
       "    <tr>\n",
       "      <th></th>\n",
       "      <th>open</th>\n",
       "      <th>high</th>\n",
       "      <th>low</th>\n",
       "      <th>close</th>\n",
       "      <th>volume</th>\n",
       "      <th>daily_return</th>\n",
       "      <th>open</th>\n",
       "      <th>high</th>\n",
       "      <th>low</th>\n",
       "      <th>close</th>\n",
       "      <th>...</th>\n",
       "      <th>low</th>\n",
       "      <th>close</th>\n",
       "      <th>volume</th>\n",
       "      <th>daily_return</th>\n",
       "      <th>open</th>\n",
       "      <th>high</th>\n",
       "      <th>low</th>\n",
       "      <th>close</th>\n",
       "      <th>volume</th>\n",
       "      <th>daily_return</th>\n",
       "    </tr>\n",
       "    <tr>\n",
       "      <th>time</th>\n",
       "      <th></th>\n",
       "      <th></th>\n",
       "      <th></th>\n",
       "      <th></th>\n",
       "      <th></th>\n",
       "      <th></th>\n",
       "      <th></th>\n",
       "      <th></th>\n",
       "      <th></th>\n",
       "      <th></th>\n",
       "      <th></th>\n",
       "      <th></th>\n",
       "      <th></th>\n",
       "      <th></th>\n",
       "      <th></th>\n",
       "      <th></th>\n",
       "      <th></th>\n",
       "      <th></th>\n",
       "      <th></th>\n",
       "      <th></th>\n",
       "      <th></th>\n",
       "    </tr>\n",
       "  </thead>\n",
       "  <tbody>\n",
       "    <tr>\n",
       "      <th>2020-07-30 00:00:00-04:00</th>\n",
       "      <td>193.43</td>\n",
       "      <td>194.57</td>\n",
       "      <td>192.25</td>\n",
       "      <td>194.30</td>\n",
       "      <td>7833392</td>\n",
       "      <td>NaN</td>\n",
       "      <td>147.44</td>\n",
       "      <td>147.50</td>\n",
       "      <td>146.1400</td>\n",
       "      <td>146.91</td>\n",
       "      <td>...</td>\n",
       "      <td>129.65</td>\n",
       "      <td>131.44</td>\n",
       "      <td>19483626</td>\n",
       "      <td>NaN</td>\n",
       "      <td>129.42</td>\n",
       "      <td>130.420</td>\n",
       "      <td>128.7200</td>\n",
       "      <td>130.11</td>\n",
       "      <td>8392139.0</td>\n",
       "      <td>NaN</td>\n",
       "    </tr>\n",
       "    <tr>\n",
       "      <th>2020-07-31 00:00:00-04:00</th>\n",
       "      <td>195.06</td>\n",
       "      <td>196.00</td>\n",
       "      <td>193.33</td>\n",
       "      <td>195.82</td>\n",
       "      <td>9647813</td>\n",
       "      <td>0.007823</td>\n",
       "      <td>146.66</td>\n",
       "      <td>147.45</td>\n",
       "      <td>143.9600</td>\n",
       "      <td>145.83</td>\n",
       "      <td>...</td>\n",
       "      <td>129.27</td>\n",
       "      <td>131.06</td>\n",
       "      <td>13357282</td>\n",
       "      <td>-0.002891</td>\n",
       "      <td>129.65</td>\n",
       "      <td>130.090</td>\n",
       "      <td>127.6200</td>\n",
       "      <td>129.43</td>\n",
       "      <td>11348242.0</td>\n",
       "      <td>-0.005226</td>\n",
       "    </tr>\n",
       "    <tr>\n",
       "      <th>2020-08-03 00:00:00-04:00</th>\n",
       "      <td>197.28</td>\n",
       "      <td>200.68</td>\n",
       "      <td>196.00</td>\n",
       "      <td>199.14</td>\n",
       "      <td>10906183</td>\n",
       "      <td>0.016954</td>\n",
       "      <td>146.39</td>\n",
       "      <td>147.79</td>\n",
       "      <td>146.1500</td>\n",
       "      <td>147.35</td>\n",
       "      <td>...</td>\n",
       "      <td>130.47</td>\n",
       "      <td>131.33</td>\n",
       "      <td>10165541</td>\n",
       "      <td>0.002060</td>\n",
       "      <td>129.91</td>\n",
       "      <td>130.115</td>\n",
       "      <td>128.2713</td>\n",
       "      <td>129.30</td>\n",
       "      <td>8938403.0</td>\n",
       "      <td>-0.001004</td>\n",
       "    </tr>\n",
       "    <tr>\n",
       "      <th>2020-08-04 00:00:00-04:00</th>\n",
       "      <td>198.97</td>\n",
       "      <td>200.31</td>\n",
       "      <td>198.11</td>\n",
       "      <td>200.31</td>\n",
       "      <td>6409839</td>\n",
       "      <td>0.005875</td>\n",
       "      <td>146.99</td>\n",
       "      <td>147.22</td>\n",
       "      <td>145.8247</td>\n",
       "      <td>147.21</td>\n",
       "      <td>...</td>\n",
       "      <td>130.70</td>\n",
       "      <td>133.80</td>\n",
       "      <td>13928394</td>\n",
       "      <td>0.018808</td>\n",
       "      <td>129.65</td>\n",
       "      <td>131.710</td>\n",
       "      <td>128.9400</td>\n",
       "      <td>131.62</td>\n",
       "      <td>11032656.0</td>\n",
       "      <td>0.017943</td>\n",
       "    </tr>\n",
       "    <tr>\n",
       "      <th>2020-08-05 00:00:00-04:00</th>\n",
       "      <td>201.44</td>\n",
       "      <td>204.69</td>\n",
       "      <td>201.00</td>\n",
       "      <td>203.62</td>\n",
       "      <td>9203352</td>\n",
       "      <td>0.016524</td>\n",
       "      <td>149.10</td>\n",
       "      <td>149.31</td>\n",
       "      <td>147.8000</td>\n",
       "      <td>148.39</td>\n",
       "      <td>...</td>\n",
       "      <td>133.12</td>\n",
       "      <td>133.45</td>\n",
       "      <td>9733012</td>\n",
       "      <td>-0.002616</td>\n",
       "      <td>130.45</td>\n",
       "      <td>130.750</td>\n",
       "      <td>128.8300</td>\n",
       "      <td>129.80</td>\n",
       "      <td>15762112.0</td>\n",
       "      <td>-0.013828</td>\n",
       "    </tr>\n",
       "  </tbody>\n",
       "</table>\n",
       "<p>5 rows × 24 columns</p>\n",
       "</div>"
      ],
      "text/plain": [
       "                            BRK.B                                    \\\n",
       "                             open    high     low   close    volume   \n",
       "time                                                                  \n",
       "2020-07-30 00:00:00-04:00  193.43  194.57  192.25  194.30   7833392   \n",
       "2020-07-31 00:00:00-04:00  195.06  196.00  193.33  195.82   9647813   \n",
       "2020-08-03 00:00:00-04:00  197.28  200.68  196.00  199.14  10906183   \n",
       "2020-08-04 00:00:00-04:00  198.97  200.31  198.11  200.31   6409839   \n",
       "2020-08-05 00:00:00-04:00  201.44  204.69  201.00  203.62   9203352   \n",
       "\n",
       "                                           JNJ                            ...  \\\n",
       "                          daily_return    open    high       low   close  ...   \n",
       "time                                                                      ...   \n",
       "2020-07-30 00:00:00-04:00          NaN  147.44  147.50  146.1400  146.91  ...   \n",
       "2020-07-31 00:00:00-04:00     0.007823  146.66  147.45  143.9600  145.83  ...   \n",
       "2020-08-03 00:00:00-04:00     0.016954  146.39  147.79  146.1500  147.35  ...   \n",
       "2020-08-04 00:00:00-04:00     0.005875  146.99  147.22  145.8247  147.21  ...   \n",
       "2020-08-05 00:00:00-04:00     0.016524  149.10  149.31  147.8000  148.39  ...   \n",
       "\n",
       "                               PG                                    WMT  \\\n",
       "                              low   close    volume daily_return    open   \n",
       "time                                                                       \n",
       "2020-07-30 00:00:00-04:00  129.65  131.44  19483626          NaN  129.42   \n",
       "2020-07-31 00:00:00-04:00  129.27  131.06  13357282    -0.002891  129.65   \n",
       "2020-08-03 00:00:00-04:00  130.47  131.33  10165541     0.002060  129.91   \n",
       "2020-08-04 00:00:00-04:00  130.70  133.80  13928394     0.018808  129.65   \n",
       "2020-08-05 00:00:00-04:00  133.12  133.45   9733012    -0.002616  130.45   \n",
       "\n",
       "                                                                               \n",
       "                              high       low   close      volume daily_return  \n",
       "time                                                                           \n",
       "2020-07-30 00:00:00-04:00  130.420  128.7200  130.11   8392139.0          NaN  \n",
       "2020-07-31 00:00:00-04:00  130.090  127.6200  129.43  11348242.0    -0.005226  \n",
       "2020-08-03 00:00:00-04:00  130.115  128.2713  129.30   8938403.0    -0.001004  \n",
       "2020-08-04 00:00:00-04:00  131.710  128.9400  131.62  11032656.0     0.017943  \n",
       "2020-08-05 00:00:00-04:00  130.750  128.8300  129.80  15762112.0    -0.013828  \n",
       "\n",
       "[5 rows x 24 columns]"
      ]
     },
     "execution_count": 233,
     "metadata": {},
     "output_type": "execute_result"
    }
   ],
   "source": [
    "# Configure a Monte Carlo simulation to forecast five years cumulative returns with 40% PG stock\n",
    "MC_PG = MCSimulation(\n",
    "    portfolio_data = winners_df_ticker,\n",
    "    weights = [.20,.20,.40,.20],\n",
    "    num_simulation = 1000,\n",
    "    num_trading_days = 252*5)\n",
    "\n",
    "# Print the simulation input data\n",
    "MC_PG.portfolio_data.head()"
   ]
  },
  {
   "cell_type": "code",
   "execution_count": 234,
   "metadata": {},
   "outputs": [
    {
     "data": {
      "text/html": [
       "<div>\n",
       "<style scoped>\n",
       "    .dataframe tbody tr th:only-of-type {\n",
       "        vertical-align: middle;\n",
       "    }\n",
       "\n",
       "    .dataframe tbody tr th {\n",
       "        vertical-align: top;\n",
       "    }\n",
       "\n",
       "    .dataframe thead th {\n",
       "        text-align: right;\n",
       "    }\n",
       "</style>\n",
       "<table border=\"1\" class=\"dataframe\">\n",
       "  <thead>\n",
       "    <tr style=\"text-align: right;\">\n",
       "      <th></th>\n",
       "      <th>BRK.B</th>\n",
       "      <th>JNJ</th>\n",
       "      <th>PG</th>\n",
       "      <th>WMT</th>\n",
       "    </tr>\n",
       "  </thead>\n",
       "  <tbody>\n",
       "    <tr>\n",
       "      <th>2020-07-30</th>\n",
       "      <td>194.30</td>\n",
       "      <td>146.91</td>\n",
       "      <td>131.44</td>\n",
       "      <td>130.11</td>\n",
       "    </tr>\n",
       "    <tr>\n",
       "      <th>2020-07-31</th>\n",
       "      <td>195.82</td>\n",
       "      <td>145.83</td>\n",
       "      <td>131.06</td>\n",
       "      <td>129.43</td>\n",
       "    </tr>\n",
       "    <tr>\n",
       "      <th>2020-08-03</th>\n",
       "      <td>199.14</td>\n",
       "      <td>147.35</td>\n",
       "      <td>131.33</td>\n",
       "      <td>129.30</td>\n",
       "    </tr>\n",
       "    <tr>\n",
       "      <th>2020-08-04</th>\n",
       "      <td>200.31</td>\n",
       "      <td>147.21</td>\n",
       "      <td>133.80</td>\n",
       "      <td>131.62</td>\n",
       "    </tr>\n",
       "    <tr>\n",
       "      <th>2020-08-05</th>\n",
       "      <td>203.62</td>\n",
       "      <td>148.39</td>\n",
       "      <td>133.45</td>\n",
       "      <td>129.80</td>\n",
       "    </tr>\n",
       "  </tbody>\n",
       "</table>\n",
       "</div>"
      ],
      "text/plain": [
       "             BRK.B     JNJ      PG     WMT\n",
       "2020-07-30  194.30  146.91  131.44  130.11\n",
       "2020-07-31  195.82  145.83  131.06  129.43\n",
       "2020-08-03  199.14  147.35  131.33  129.30\n",
       "2020-08-04  200.31  147.21  133.80  131.62\n",
       "2020-08-05  203.62  148.39  133.45  129.80"
      ]
     },
     "execution_count": 234,
     "metadata": {},
     "output_type": "execute_result"
    }
   ],
   "source": [
    "pg_closing_prices = pd.DataFrame()\n",
    "\n",
    "# Fetch the closing prices for all the tickers\n",
    "for ticker in tickers:\n",
    "    pg_closing_prices[ticker] = winners_df_ticker[ticker][\"close\"]\n",
    "\n",
    "# Drop the time component of the date\n",
    "pg_closing_prices.index = pg_closing_prices.index.date\n",
    "\n",
    "# Display sample data\n",
    "pg_closing_prices.head()"
   ]
  },
  {
   "cell_type": "code",
   "execution_count": 235,
   "metadata": {},
   "outputs": [
    {
     "data": {
      "text/html": [
       "<div>\n",
       "<style scoped>\n",
       "    .dataframe tbody tr th:only-of-type {\n",
       "        vertical-align: middle;\n",
       "    }\n",
       "\n",
       "    .dataframe tbody tr th {\n",
       "        vertical-align: top;\n",
       "    }\n",
       "\n",
       "    .dataframe thead th {\n",
       "        text-align: right;\n",
       "    }\n",
       "</style>\n",
       "<table border=\"1\" class=\"dataframe\">\n",
       "  <thead>\n",
       "    <tr style=\"text-align: right;\">\n",
       "      <th></th>\n",
       "      <th>BRK.B</th>\n",
       "      <th>JNJ</th>\n",
       "      <th>PG</th>\n",
       "      <th>WMT</th>\n",
       "    </tr>\n",
       "  </thead>\n",
       "  <tbody>\n",
       "    <tr>\n",
       "      <th>2020-07-31</th>\n",
       "      <td>0.007823</td>\n",
       "      <td>-0.007351</td>\n",
       "      <td>-0.002891</td>\n",
       "      <td>-0.005226</td>\n",
       "    </tr>\n",
       "    <tr>\n",
       "      <th>2020-08-03</th>\n",
       "      <td>0.016954</td>\n",
       "      <td>0.010423</td>\n",
       "      <td>0.002060</td>\n",
       "      <td>-0.001004</td>\n",
       "    </tr>\n",
       "    <tr>\n",
       "      <th>2020-08-04</th>\n",
       "      <td>0.005875</td>\n",
       "      <td>-0.000950</td>\n",
       "      <td>0.018808</td>\n",
       "      <td>0.017943</td>\n",
       "    </tr>\n",
       "    <tr>\n",
       "      <th>2020-08-05</th>\n",
       "      <td>0.016524</td>\n",
       "      <td>0.008016</td>\n",
       "      <td>-0.002616</td>\n",
       "      <td>-0.013828</td>\n",
       "    </tr>\n",
       "    <tr>\n",
       "      <th>2020-08-06</th>\n",
       "      <td>0.007219</td>\n",
       "      <td>-0.005661</td>\n",
       "      <td>-0.005545</td>\n",
       "      <td>-0.003467</td>\n",
       "    </tr>\n",
       "  </tbody>\n",
       "</table>\n",
       "</div>"
      ],
      "text/plain": [
       "               BRK.B       JNJ        PG       WMT\n",
       "2020-07-31  0.007823 -0.007351 -0.002891 -0.005226\n",
       "2020-08-03  0.016954  0.010423  0.002060 -0.001004\n",
       "2020-08-04  0.005875 -0.000950  0.018808  0.017943\n",
       "2020-08-05  0.016524  0.008016 -0.002616 -0.013828\n",
       "2020-08-06  0.007219 -0.005661 -0.005545 -0.003467"
      ]
     },
     "execution_count": 235,
     "metadata": {},
     "output_type": "execute_result"
    }
   ],
   "source": [
    "pg_daily_returns  = pg_closing_prices.pct_change().dropna()\n",
    "pg_daily_returns.head()"
   ]
  },
  {
   "cell_type": "code",
   "execution_count": 251,
   "metadata": {},
   "outputs": [
    {
     "data": {
      "text/plain": [
       "<AxesSubplot:ylabel='Frequency'>"
      ]
     },
     "execution_count": 251,
     "metadata": {},
     "output_type": "execute_result"
    },
    {
     "data": {
      "image/png": "[encoded data removed]",
      "text/plain": [
       "<Figure size 432x288 with 1 Axes>"
      ]
     },
     "metadata": {
      "needs_background": "light"
     },
     "output_type": "display_data"
    }
   ],
   "source": [
    "pg_daily_returns.plot.hist(alpha=0.5)"
   ]
  },
  {
   "cell_type": "code",
   "execution_count": 252,
   "metadata": {},
   "outputs": [
    {
     "data": {
      "text/plain": [
       "<AxesSubplot:ylabel='Density'>"
      ]
     },
     "execution_count": 252,
     "metadata": {},
     "output_type": "execute_result"
    },
    {
     "data": {
      "image/png": "[encoded data removed]",
      "text/plain": [
       "<Figure size 432x288 with 1 Axes>"
      ]
     },
     "metadata": {
      "needs_background": "light"
     },
     "output_type": "display_data"
    }
   ],
   "source": [
    "pg_daily_returns.plot.density()"
   ]
  },
  {
   "cell_type": "code",
   "execution_count": 255,
   "metadata": {},
   "outputs": [
    {
     "data": {
      "text/plain": [
       "<AxesSubplot:title={'center':'1000 Simulations of Cumulative Portfolio Return Trajectories Over the Next 1260 Trading Days.'}>"
      ]
     },
     "execution_count": 255,
     "metadata": {},
     "output_type": "execute_result"
    },
    {
     "data": {
      "image/png": "[encoded data removed]",
      "text/plain": [
       "<Figure size 432x288 with 1 Axes>"
      ]
     },
     "metadata": {
      "needs_background": "light"
     },
     "output_type": "display_data"
    }
   ],
   "source": [
    "MC_PG.plot_simulation()"
   ]
  },
  {
   "cell_type": "code",
   "execution_count": 254,
   "metadata": {},
   "outputs": [
    {
     "data": {
      "image/png": "[encoded data removed]",
      "text/plain": [
       "<Figure size 432x288 with 1 Axes>"
      ]
     },
     "metadata": {
      "needs_background": "light"
     },
     "output_type": "display_data"
    }
   ],
   "source": [
    "dist_plot = MC_PG.plot_distribution()"
   ]
  },
  {
   "cell_type": "code",
   "execution_count": 256,
   "metadata": {},
   "outputs": [
    {
     "data": {
      "text/plain": [
       "count           1000.000000\n",
       "mean               2.312811\n",
       "std                0.469553\n",
       "min                1.242137\n",
       "25%                1.968930\n",
       "50%                2.280645\n",
       "75%                2.595817\n",
       "max                5.238385\n",
       "95% CI Lower       1.554631\n",
       "95% CI Upper       3.341757\n",
       "Name: 1260, dtype: float64"
      ]
     },
     "execution_count": 256,
     "metadata": {},
     "output_type": "execute_result"
    }
   ],
   "source": [
    "pg_tbl = MC_PG.summarize_cumulative_return()\n",
    "pg_tbl"
   ]
  },
  {
   "cell_type": "code",
   "execution_count": 257,
   "metadata": {},
   "outputs": [],
   "source": [
    "# Use the lower and upper `95%` confidence intervals to calculate the range of the possible outcomes of our $10,000 investments in stocks\n",
    "pg_ci_lower = round(pg_tbl[8]*10000,2)\n",
    "pg_ci_upper = round(pg_tbl[9]*10000,2)"
   ]
  },
  {
   "cell_type": "code",
   "execution_count": 258,
   "metadata": {
    "jupyter": {
     "source_hidden": true
    }
   },
   "outputs": [
    {
     "name": "stdout",
     "output_type": "stream",
     "text": [
      "There is a 95% chance that an initial investment in PG of $10,000 in the portfolio over the next 5 years will end within in the range of $15546.31 and $33417.57.\n"
     ]
    }
   ],
   "source": [
    "# Print results\n",
    "print(f\"There is a 95% chance that an initial investment in PG of $10,000 in the portfolio\"\n",
    "      f\" over the next 5 years will end within in the range of\"\n",
    "      f\" ${pg_ci_lower} and ${pg_ci_upper}.\")"
   ]
  },
  {
   "cell_type": "code",
   "execution_count": 231,
   "metadata": {
    "jupyter": {
     "source_hidden": true
    }
   },
   "outputs": [
    {
     "name": "stdout",
     "output_type": "stream",
     "text": [
      "There is a 95% chance that an initial investment in JNJ of $10,000 in the portfolio over the next 5 years will end within in the range of $17196.09 and $37023.36.\n"
     ]
    }
   ],
   "source": [
    "print(f\"There is a 95% chance that an initial investment in JNJ of $10,000 in the portfolio\"\n",
    "      f\" over the next 5 years will end within in the range of\"\n",
    "      f\" ${jnj_ci_lower} and ${jnj_ci_upper}.\")"
   ]
  },
  {
   "cell_type": "code",
   "execution_count": 260,
   "metadata": {
    "jupyter": {
     "source_hidden": true
    }
   },
   "outputs": [
    {
     "name": "stdout",
     "output_type": "stream",
     "text": [
      "There is a 95% chance that an initial investment in WMT of $10,000 in the portfolio over the next 5 years will end within in the range of $14975.85 and $36263.71.\n"
     ]
    }
   ],
   "source": [
    "print(f\"There is a 95% chance that an initial investment in WMT of $10,000 in the portfolio\"\n",
    "      f\" over the next 5 years will end within in the range of\"\n",
    "      f\" ${wal_mart_ci_lower} and ${wal_mart_ci_upper}.\")"
   ]
  },
  {
   "cell_type": "code",
   "execution_count": 259,
   "metadata": {
    "jupyter": {
     "source_hidden": true
    }
   },
   "outputs": [
    {
     "name": "stdout",
     "output_type": "stream",
     "text": [
      "There is a 95% chance that an initial investment in BRK of $10,000 in the portfolio over the next 5 years will end within in the range of $20438.22 and $46322.5.\n"
     ]
    }
   ],
   "source": [
    "# Print results\n",
    "print(f\"There is a 95% chance that an initial investment in BRK of $10,000 in the portfolio\"\n",
    "      f\" over the next 5 years will end within in the range of\"\n",
    "      f\" ${brk_ci_lower} and ${brk_ci_upper}.\")"
   ]
  },
  {
   "cell_type": "code",
   "execution_count": null,
   "metadata": {},
   "outputs": [],
   "source": []
  }
 ],
 "metadata": {
  "kernelspec": {
   "display_name": "Python 3",
   "language": "python",
   "name": "python3"
  },
  "language_info": {
   "codemirror_mode": {
    "name": "ipython",
    "version": 3
   },
   "file_extension": ".py",
   "mimetype": "text/x-python",
   "name": "python",
   "nbconvert_exporter": "python",
   "pygments_lexer": "ipython3",
   "version": "3.8.5"
  }
 },
 "nbformat": 4,
 "nbformat_minor": 4
}
