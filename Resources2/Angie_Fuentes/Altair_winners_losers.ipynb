{
 "cells": [
  {
   "cell_type": "code",
   "execution_count": null,
   "id": "35d51672-dc71-4aaa-b1b4-2e478cf913df",
   "metadata": {},
   "outputs": [],
   "source": [
    "import altair as alt\n",
    "import pandas as pd\n",
    "import numpy as np\n",
    "\n",
    "#Crash 1 winners & losers on Altair\n",
    "source1 = c1_all_sectors_cumulative_returns.set_index(\"SPY\").dropna()\n",
    "X = source1[[\"VDC\", \"VGT\", \"XLP\", \"IYR\", \"XLF\", \"VNQ\"]]\n",
    "\n",
    "VDC = source1[[\"VDC\"]]\n",
    "VDC.columns= [\"x\"]\n",
    "VDC[\"category\"]=\"VDC\"\n",
    "\n",
    "VGT = source1[[\"VGT\"]]\n",
    "VGT.columns= [\"x\"]\n",
    "VGT[\"category\"]=\"VGT\"\n",
    "\n",
    "XLP = source1[[\"XLP\"]]\n",
    "XLP.columns= [\"x\"]\n",
    "XLP[\"category\"]=\"XLP\"\n",
    "\n",
    "IYR = source1[[\"IYR\"]]\n",
    "IYR.columns= [\"x\"]\n",
    "IYR[\"category\"]=\"IYR\"\n",
    "\n",
    "XLF = source1[[\"XLF\"]]\n",
    "XLF.columns= [\"x\"]\n",
    "XLF[\"category\"]=\"XLF\"\n",
    "\n",
    "VNQ = source1[[\"VNQ\"]]\n",
    "VNQ.columns= [\"x\"]\n",
    "VNQ[\"category\"]=\"VNQ\"\n",
    "\n",
    "y = source1.index\n",
    "\n",
    "source1 = pd.concat([VDC, VGT, XLP, IYR, XLF, VNQ]).reset_index()\n",
    "source1.columns = ['SPY', 'x', 'category']\n",
    "source1"
   ]
  },
  {
   "cell_type": "code",
   "execution_count": null,
   "id": "c9a8ba90-f966-47a2-884e-4982c02ad9bf",
   "metadata": {},
   "outputs": [],
   "source": [
    "# Crash 1 Create a selection that chooses the nearest point & selects based on x-value\n",
    "nearest = alt.selection(type='single', nearest=True, on='mouseover',\n",
    "                        fields=['x'], empty='none')"
   ]
  },
  {
   "cell_type": "code",
   "execution_count": null,
   "id": "855de7bb-0a22-46b7-8454-731e5446dee5",
   "metadata": {},
   "outputs": [],
   "source": [
    "#Crash 1 The basic line\n",
    "line = alt.Chart(source1).mark_line(interpolate='basis').encode(\n",
    "    x='x:Q',\n",
    "    y='SPY:Q',\n",
    "    color='category:N'\n",
    ")"
   ]
  },
  {
   "cell_type": "code",
   "execution_count": null,
   "id": "5dcc1cd7-681e-4ffb-ac5b-71626e2b1c31",
   "metadata": {},
   "outputs": [],
   "source": [
    "#graph for Crash1\n",
    "line"
   ]
  },
  {
   "cell_type": "code",
   "execution_count": null,
   "id": "61ecd6ec-68e3-46b8-9a29-59cb219f7168",
   "metadata": {},
   "outputs": [],
   "source": [
    "#Crash 2 winners & losers on Altair\n",
    "source2 = c2_all_sectors_cumulative_returns.set_index(\"SPY\").dropna()\n",
    "X = source2[[\"XLF\", \"VGT\", \"VHT\", \"VDE\", \"IYR\", \"VNQ\"]]\n",
    "\n",
    "XLF = source2[[\"XLF\"]]\n",
    "XLF.columns= [\"x\"]\n",
    "XLF[\"category\"]=\"XLF\"\n",
    "\n",
    "VGT = source2[[\"VGT\"]]\n",
    "VGT.columns= [\"x\"]\n",
    "VGT[\"category\"]=\"VGT\"\n",
    "\n",
    "VHT = source2[[\"VHT\"]]\n",
    "VHT.columns= [\"x\"]\n",
    "VHT[\"category\"]=\"VHT\"\n",
    "\n",
    "VDE = source2[[\"VDE\"]]\n",
    "VDE.columns= [\"x\"]\n",
    "VDE[\"category\"]=\"VDE\"\n",
    "\n",
    "IYR = source2[[\"IYR\"]]\n",
    "IYR.columns= [\"x\"]\n",
    "IYR[\"category\"]=\"IYR\"\n",
    "\n",
    "VNQ = source2[[\"VNQ\"]]\n",
    "VNQ.columns= [\"x\"]\n",
    "VNQ[\"category\"]=\"VNQ\"\n",
    "\n",
    "y = source2.index\n",
    "\n",
    "source2 = pd.concat([XLF, VGT, VHT, VDE, IYR, VNQ]).reset_index()\n",
    "source2.columns = ['SPY', 'x', 'category']\n",
    "source2"
   ]
  },
  {
   "cell_type": "code",
   "execution_count": null,
   "id": "a103127d-68fc-4820-b56e-4eca608d6506",
   "metadata": {},
   "outputs": [],
   "source": [
    "# Crash 2 Create a selection that chooses the nearest point & selects based on x-value\n",
    "nearest = alt.selection(type='single', nearest=True, on='mouseover',\n",
    "                        fields=['x'], empty='none')"
   ]
  },
  {
   "cell_type": "code",
   "execution_count": null,
   "id": "37aef415-ed71-4cb0-aaaa-b96904c0c264",
   "metadata": {},
   "outputs": [],
   "source": [
    "#Crash 2 The basic line\n",
    "line = alt.Chart(source2).mark_line(interpolate='basis').encode(\n",
    "    x='x:Q',\n",
    "    y='SPY:Q',\n",
    "    color='category:N'\n",
    ")"
   ]
  },
  {
   "cell_type": "code",
   "execution_count": null,
   "id": "f8183726-455d-45de-b5c1-be8edaae84ae",
   "metadata": {},
   "outputs": [],
   "source": [
    "#graph for Crash2\n",
    "line"
   ]
  },
  {
   "cell_type": "code",
   "execution_count": null,
   "id": "090b9c21-48af-405d-80fb-3e0bc3954b45",
   "metadata": {},
   "outputs": [],
   "source": [
    "#Crash 3 winners & losers on Altair\n",
    "source3 = c3_all_sectors_cumulative_returns.set_index(\"SPY\").dropna()\n",
    "X = source3[[\"VHT\", \"VGT\", \"VCR\", \"VDE\", \"VNQ\", \"IYR\"]]\n",
    "\n",
    "VHT = source3[[\"VHT\"]]\n",
    "VHT.columns= [\"x\"]\n",
    "VHT[\"category\"]=\"VHT\"\n",
    "\n",
    "VGT = source3[[\"VGT\"]]\n",
    "VGT.columns= [\"x\"]\n",
    "VGT[\"category\"]=\"VGT\"\n",
    "\n",
    "VCR = source3[[\"VCR\"]]\n",
    "VCR.columns= [\"x\"]\n",
    "VCR[\"category\"]=\"VCR\"\n",
    "\n",
    "VDE = source3[[\"VDE\"]]\n",
    "VDE.columns= [\"x\"]\n",
    "VDE[\"category\"]=\"VDE\"\n",
    "\n",
    "VNQ = source3[[\"VNQ\"]]\n",
    "VNQ.columns= [\"x\"]\n",
    "VNQ[\"category\"]=\"VNQ\"\n",
    "\n",
    "IYR = source3[[\"IYR\"]]\n",
    "IYR.columns= [\"x\"]\n",
    "IYR[\"category\"]=\"IYR\"\n",
    "\n",
    "y = source3.index\n",
    "\n",
    "source3 = pd.concat([VHT, VGT, VCR, VDE, VNQ, IYR]).reset_index()\n",
    "source3.columns = ['SPY', 'x', 'category']\n",
    "source3"
   ]
  },
  {
   "cell_type": "code",
   "execution_count": null,
   "id": "d0087cba-c438-4726-8d18-582a2f1ff462",
   "metadata": {},
   "outputs": [],
   "source": [
    "# Crash 3 Create a selection that chooses the nearest point & selects based on x-value\n",
    "nearest = alt.selection(type='single', nearest=True, on='mouseover',\n",
    "                        fields=['x'], empty='none')"
   ]
  },
  {
   "cell_type": "code",
   "execution_count": null,
   "id": "feb728f3-2cfc-446f-a5f5-4738e5f1738c",
   "metadata": {},
   "outputs": [],
   "source": [
    "#Crash 3 The basic line\n",
    "line = alt.Chart(source3).mark_line(interpolate='basis').encode(\n",
    "    x='x:Q',\n",
    "    y='SPY:Q',\n",
    "    color='category:N'\n",
    ")"
   ]
  },
  {
   "cell_type": "code",
   "execution_count": null,
   "id": "1aa4e792-2c13-470a-9fed-930ea1c30219",
   "metadata": {},
   "outputs": [],
   "source": [
    "#graph for Crash3\n",
    "line"
   ]
  }
 ],
 "metadata": {
  "kernelspec": {
   "display_name": "Python 3",
   "language": "python",
   "name": "python3"
  },
  "language_info": {
   "codemirror_mode": {
    "name": "ipython",
    "version": 3
   },
   "file_extension": ".py",
   "mimetype": "text/x-python",
   "name": "python",
   "nbconvert_exporter": "python",
   "pygments_lexer": "ipython3",
   "version": "3.7.10"
  }
 },
 "nbformat": 4,
 "nbformat_minor": 5
}
